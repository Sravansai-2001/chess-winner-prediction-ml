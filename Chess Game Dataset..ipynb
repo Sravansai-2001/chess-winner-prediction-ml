{
 "cells": [
  {
   "cell_type": "markdown",
   "id": "69ab7a34",
   "metadata": {},
   "source": [
    "### Importing the requried libraries "
   ]
  },
  {
   "cell_type": "code",
   "execution_count": 55,
   "id": "728cb27e",
   "metadata": {},
   "outputs": [],
   "source": [
    "import numpy as np                               # NumPy lib is used to perform a wide variety of mathematical operations on arrays.\n",
    "import pandas as pd                              # pandas lib is used for tabular data preprocessing and cleaning\n",
    "import matplotlib.pyplot as plt                  # matplotlib lib is used for drawing visualizations for the data\n",
    "import seaborn as sns                            # seaborn lib is used for drawing visualizations for the data\n",
    "from sklearn.model_selection import train_test_split # train_test_split used to split the dataset into train data and test data.\n",
    "from sklearn.linear_model import LogisticRegression #used to analyze and model relationships between a binary dependent variable and one or more independent variables\n",
    "from sklearn.naive_bayes import GaussianNB # describes the relationship between conditional probabilities of two events.\n",
    "from sklearn.ensemble import RandomForestClassifier # It is based on decision trees, which are simple yet powerful models for predicting outcomes based on a set of input features.\n",
    "from sklearn.metrics import accuracy_score # used in machine learning to evaluate the accuracy of a classification model. It is a measure of how well the model predicts the correct class label for the input data.\n",
    "from sklearn.ensemble import GradientBoostingClassifier # Gradient Boosting Classifier is an ensemble machine learning algorithm that is widely used for classification tasks. \n",
    "import xgboost as xg #It is based on the Gradient Boosting algorithm and has been optimized for both speed and accuracy.\n",
    "import warnings                    # filterwarnings is used for filtering and supressing any warnings during the data cleaning.\n",
    "warnings.filterwarnings('ignore')"
   ]
  },
  {
   "cell_type": "markdown",
   "id": "6bed6e22",
   "metadata": {},
   "source": [
    "### Loading the data set"
   ]
  },
  {
   "cell_type": "code",
   "execution_count": 57,
   "id": "17eff509",
   "metadata": {},
   "outputs": [
    {
     "data": {
      "text/html": [
       "<div>\n",
       "<style scoped>\n",
       "    .dataframe tbody tr th:only-of-type {\n",
       "        vertical-align: middle;\n",
       "    }\n",
       "\n",
       "    .dataframe tbody tr th {\n",
       "        vertical-align: top;\n",
       "    }\n",
       "\n",
       "    .dataframe thead th {\n",
       "        text-align: right;\n",
       "    }\n",
       "</style>\n",
       "<table border=\"1\" class=\"dataframe\">\n",
       "  <thead>\n",
       "    <tr style=\"text-align: right;\">\n",
       "      <th></th>\n",
       "      <th>game_id</th>\n",
       "      <th>rated</th>\n",
       "      <th>turns</th>\n",
       "      <th>victory_status</th>\n",
       "      <th>winner</th>\n",
       "      <th>time_increment</th>\n",
       "      <th>white_id</th>\n",
       "      <th>white_rating</th>\n",
       "      <th>black_id</th>\n",
       "      <th>black_rating</th>\n",
       "      <th>moves</th>\n",
       "      <th>opening_code</th>\n",
       "      <th>opening_moves</th>\n",
       "      <th>opening_fullname</th>\n",
       "      <th>opening_shortname</th>\n",
       "      <th>opening_response</th>\n",
       "      <th>opening_variation</th>\n",
       "    </tr>\n",
       "  </thead>\n",
       "  <tbody>\n",
       "    <tr>\n",
       "      <th>0</th>\n",
       "      <td>1</td>\n",
       "      <td>False</td>\n",
       "      <td>13</td>\n",
       "      <td>Out of Time</td>\n",
       "      <td>White</td>\n",
       "      <td>15+2</td>\n",
       "      <td>bourgris</td>\n",
       "      <td>1500</td>\n",
       "      <td>a-00</td>\n",
       "      <td>1191</td>\n",
       "      <td>d4 d5 c4 c6 cxd5 e6 dxe6 fxe6 Nf3 Bb4+ Nc3 Ba5...</td>\n",
       "      <td>D10</td>\n",
       "      <td>5</td>\n",
       "      <td>Slav Defense: Exchange Variation</td>\n",
       "      <td>Slav Defense</td>\n",
       "      <td>NaN</td>\n",
       "      <td>Exchange Variation</td>\n",
       "    </tr>\n",
       "    <tr>\n",
       "      <th>1</th>\n",
       "      <td>2</td>\n",
       "      <td>True</td>\n",
       "      <td>16</td>\n",
       "      <td>Resign</td>\n",
       "      <td>Black</td>\n",
       "      <td>5+10</td>\n",
       "      <td>a-00</td>\n",
       "      <td>1322</td>\n",
       "      <td>skinnerua</td>\n",
       "      <td>1261</td>\n",
       "      <td>d4 Nc6 e4 e5 f4 f6 dxe5 fxe5 fxe5 Nxe5 Qd4 Nc6...</td>\n",
       "      <td>B00</td>\n",
       "      <td>4</td>\n",
       "      <td>Nimzowitsch Defense: Kennedy Variation</td>\n",
       "      <td>Nimzowitsch Defense</td>\n",
       "      <td>NaN</td>\n",
       "      <td>Kennedy Variation</td>\n",
       "    </tr>\n",
       "    <tr>\n",
       "      <th>2</th>\n",
       "      <td>3</td>\n",
       "      <td>True</td>\n",
       "      <td>61</td>\n",
       "      <td>Mate</td>\n",
       "      <td>White</td>\n",
       "      <td>5+10</td>\n",
       "      <td>ischia</td>\n",
       "      <td>1496</td>\n",
       "      <td>a-00</td>\n",
       "      <td>1500</td>\n",
       "      <td>e4 e5 d3 d6 Be3 c6 Be2 b5 Nd2 a5 a4 c5 axb5 Nc...</td>\n",
       "      <td>C20</td>\n",
       "      <td>3</td>\n",
       "      <td>King's Pawn Game: Leonardis Variation</td>\n",
       "      <td>King's Pawn Game</td>\n",
       "      <td>NaN</td>\n",
       "      <td>Leonardis Variation</td>\n",
       "    </tr>\n",
       "    <tr>\n",
       "      <th>3</th>\n",
       "      <td>4</td>\n",
       "      <td>True</td>\n",
       "      <td>61</td>\n",
       "      <td>Mate</td>\n",
       "      <td>White</td>\n",
       "      <td>20+0</td>\n",
       "      <td>daniamurashov</td>\n",
       "      <td>1439</td>\n",
       "      <td>adivanov2009</td>\n",
       "      <td>1454</td>\n",
       "      <td>d4 d5 Nf3 Bf5 Nc3 Nf6 Bf4 Ng4 e3 Nc6 Be2 Qd7 O...</td>\n",
       "      <td>D02</td>\n",
       "      <td>3</td>\n",
       "      <td>Queen's Pawn Game: Zukertort Variation</td>\n",
       "      <td>Queen's Pawn Game</td>\n",
       "      <td>NaN</td>\n",
       "      <td>Zukertort Variation</td>\n",
       "    </tr>\n",
       "    <tr>\n",
       "      <th>4</th>\n",
       "      <td>5</td>\n",
       "      <td>True</td>\n",
       "      <td>95</td>\n",
       "      <td>Mate</td>\n",
       "      <td>White</td>\n",
       "      <td>30+3</td>\n",
       "      <td>nik221107</td>\n",
       "      <td>1523</td>\n",
       "      <td>adivanov2009</td>\n",
       "      <td>1469</td>\n",
       "      <td>e4 e5 Nf3 d6 d4 Nc6 d5 Nb4 a3 Na6 Nc3 Be7 b4 N...</td>\n",
       "      <td>C41</td>\n",
       "      <td>5</td>\n",
       "      <td>Philidor Defense</td>\n",
       "      <td>Philidor Defense</td>\n",
       "      <td>NaN</td>\n",
       "      <td>NaN</td>\n",
       "    </tr>\n",
       "  </tbody>\n",
       "</table>\n",
       "</div>"
      ],
      "text/plain": [
       "   game_id  rated  turns victory_status winner time_increment       white_id  \\\n",
       "0        1  False     13    Out of Time  White           15+2       bourgris   \n",
       "1        2   True     16         Resign  Black           5+10           a-00   \n",
       "2        3   True     61           Mate  White           5+10         ischia   \n",
       "3        4   True     61           Mate  White           20+0  daniamurashov   \n",
       "4        5   True     95           Mate  White           30+3      nik221107   \n",
       "\n",
       "   white_rating      black_id  black_rating  \\\n",
       "0          1500          a-00          1191   \n",
       "1          1322     skinnerua          1261   \n",
       "2          1496          a-00          1500   \n",
       "3          1439  adivanov2009          1454   \n",
       "4          1523  adivanov2009          1469   \n",
       "\n",
       "                                               moves opening_code  \\\n",
       "0  d4 d5 c4 c6 cxd5 e6 dxe6 fxe6 Nf3 Bb4+ Nc3 Ba5...          D10   \n",
       "1  d4 Nc6 e4 e5 f4 f6 dxe5 fxe5 fxe5 Nxe5 Qd4 Nc6...          B00   \n",
       "2  e4 e5 d3 d6 Be3 c6 Be2 b5 Nd2 a5 a4 c5 axb5 Nc...          C20   \n",
       "3  d4 d5 Nf3 Bf5 Nc3 Nf6 Bf4 Ng4 e3 Nc6 Be2 Qd7 O...          D02   \n",
       "4  e4 e5 Nf3 d6 d4 Nc6 d5 Nb4 a3 Na6 Nc3 Be7 b4 N...          C41   \n",
       "\n",
       "   opening_moves                        opening_fullname    opening_shortname  \\\n",
       "0              5        Slav Defense: Exchange Variation         Slav Defense   \n",
       "1              4  Nimzowitsch Defense: Kennedy Variation  Nimzowitsch Defense   \n",
       "2              3   King's Pawn Game: Leonardis Variation     King's Pawn Game   \n",
       "3              3  Queen's Pawn Game: Zukertort Variation    Queen's Pawn Game   \n",
       "4              5                        Philidor Defense     Philidor Defense   \n",
       "\n",
       "  opening_response    opening_variation  \n",
       "0              NaN   Exchange Variation  \n",
       "1              NaN    Kennedy Variation  \n",
       "2              NaN  Leonardis Variation  \n",
       "3              NaN  Zukertort Variation  \n",
       "4              NaN                  NaN  "
      ]
     },
     "execution_count": 57,
     "metadata": {},
     "output_type": "execute_result"
    }
   ],
   "source": [
    "data=pd.read_csv(r\"C:\\Users\\Gogula Vinay\\OneDrive\\HBIC Solutions\\Day to day\\05-Apr-2023\\chess_games.csv\")\n",
    "data.head()    # .head() will return you the top 5 rows of the dataset."
   ]
  },
  {
   "cell_type": "markdown",
   "id": "c1a11335",
   "metadata": {},
   "source": [
    "### Finding duplicats"
   ]
  },
  {
   "cell_type": "code",
   "execution_count": 58,
   "id": "8301e476",
   "metadata": {},
   "outputs": [
    {
     "data": {
      "text/plain": [
       "0"
      ]
     },
     "execution_count": 58,
     "metadata": {},
     "output_type": "execute_result"
    }
   ],
   "source": [
    "data.duplicated().sum() # Duplicat command is used to findout the duplicate row in the given dataset"
   ]
  },
  {
   "cell_type": "markdown",
   "id": "62ddefa9",
   "metadata": {},
   "source": [
    "### Observation\n",
    "1. There are no duplicats in the dataset"
   ]
  },
  {
   "cell_type": "code",
   "execution_count": 59,
   "id": "bc5ea5b1",
   "metadata": {},
   "outputs": [
    {
     "data": {
      "text/plain": [
       "(20058, 17)"
      ]
     },
     "execution_count": 59,
     "metadata": {},
     "output_type": "execute_result"
    }
   ],
   "source": [
    "data.shape # The shape of the data set is given in the tuple formate."
   ]
  },
  {
   "cell_type": "markdown",
   "id": "1f21563e",
   "metadata": {},
   "source": [
    "### Observation\n",
    "1. There are 20058 datapoints and 17 columns in the data set"
   ]
  },
  {
   "cell_type": "code",
   "execution_count": 61,
   "id": "60d3440a",
   "metadata": {},
   "outputs": [
    {
     "data": {
      "text/html": [
       "<div>\n",
       "<style scoped>\n",
       "    .dataframe tbody tr th:only-of-type {\n",
       "        vertical-align: middle;\n",
       "    }\n",
       "\n",
       "    .dataframe tbody tr th {\n",
       "        vertical-align: top;\n",
       "    }\n",
       "\n",
       "    .dataframe thead th {\n",
       "        text-align: right;\n",
       "    }\n",
       "</style>\n",
       "<table border=\"1\" class=\"dataframe\">\n",
       "  <thead>\n",
       "    <tr style=\"text-align: right;\">\n",
       "      <th></th>\n",
       "      <th>rated</th>\n",
       "      <th>turns</th>\n",
       "      <th>victory_status</th>\n",
       "      <th>winner</th>\n",
       "      <th>time_increment</th>\n",
       "      <th>white_id</th>\n",
       "      <th>white_rating</th>\n",
       "      <th>black_id</th>\n",
       "      <th>black_rating</th>\n",
       "      <th>moves</th>\n",
       "      <th>opening_code</th>\n",
       "      <th>opening_moves</th>\n",
       "      <th>opening_fullname</th>\n",
       "      <th>opening_shortname</th>\n",
       "      <th>opening_response</th>\n",
       "      <th>opening_variation</th>\n",
       "    </tr>\n",
       "  </thead>\n",
       "  <tbody>\n",
       "    <tr>\n",
       "      <th>0</th>\n",
       "      <td>False</td>\n",
       "      <td>13</td>\n",
       "      <td>Out of Time</td>\n",
       "      <td>White</td>\n",
       "      <td>15+2</td>\n",
       "      <td>bourgris</td>\n",
       "      <td>1500</td>\n",
       "      <td>a-00</td>\n",
       "      <td>1191</td>\n",
       "      <td>d4 d5 c4 c6 cxd5 e6 dxe6 fxe6 Nf3 Bb4+ Nc3 Ba5...</td>\n",
       "      <td>D10</td>\n",
       "      <td>5</td>\n",
       "      <td>Slav Defense: Exchange Variation</td>\n",
       "      <td>Slav Defense</td>\n",
       "      <td>NaN</td>\n",
       "      <td>Exchange Variation</td>\n",
       "    </tr>\n",
       "    <tr>\n",
       "      <th>1</th>\n",
       "      <td>True</td>\n",
       "      <td>16</td>\n",
       "      <td>Resign</td>\n",
       "      <td>Black</td>\n",
       "      <td>5+10</td>\n",
       "      <td>a-00</td>\n",
       "      <td>1322</td>\n",
       "      <td>skinnerua</td>\n",
       "      <td>1261</td>\n",
       "      <td>d4 Nc6 e4 e5 f4 f6 dxe5 fxe5 fxe5 Nxe5 Qd4 Nc6...</td>\n",
       "      <td>B00</td>\n",
       "      <td>4</td>\n",
       "      <td>Nimzowitsch Defense: Kennedy Variation</td>\n",
       "      <td>Nimzowitsch Defense</td>\n",
       "      <td>NaN</td>\n",
       "      <td>Kennedy Variation</td>\n",
       "    </tr>\n",
       "    <tr>\n",
       "      <th>2</th>\n",
       "      <td>True</td>\n",
       "      <td>61</td>\n",
       "      <td>Mate</td>\n",
       "      <td>White</td>\n",
       "      <td>5+10</td>\n",
       "      <td>ischia</td>\n",
       "      <td>1496</td>\n",
       "      <td>a-00</td>\n",
       "      <td>1500</td>\n",
       "      <td>e4 e5 d3 d6 Be3 c6 Be2 b5 Nd2 a5 a4 c5 axb5 Nc...</td>\n",
       "      <td>C20</td>\n",
       "      <td>3</td>\n",
       "      <td>King's Pawn Game: Leonardis Variation</td>\n",
       "      <td>King's Pawn Game</td>\n",
       "      <td>NaN</td>\n",
       "      <td>Leonardis Variation</td>\n",
       "    </tr>\n",
       "    <tr>\n",
       "      <th>3</th>\n",
       "      <td>True</td>\n",
       "      <td>61</td>\n",
       "      <td>Mate</td>\n",
       "      <td>White</td>\n",
       "      <td>20+0</td>\n",
       "      <td>daniamurashov</td>\n",
       "      <td>1439</td>\n",
       "      <td>adivanov2009</td>\n",
       "      <td>1454</td>\n",
       "      <td>d4 d5 Nf3 Bf5 Nc3 Nf6 Bf4 Ng4 e3 Nc6 Be2 Qd7 O...</td>\n",
       "      <td>D02</td>\n",
       "      <td>3</td>\n",
       "      <td>Queen's Pawn Game: Zukertort Variation</td>\n",
       "      <td>Queen's Pawn Game</td>\n",
       "      <td>NaN</td>\n",
       "      <td>Zukertort Variation</td>\n",
       "    </tr>\n",
       "    <tr>\n",
       "      <th>4</th>\n",
       "      <td>True</td>\n",
       "      <td>95</td>\n",
       "      <td>Mate</td>\n",
       "      <td>White</td>\n",
       "      <td>30+3</td>\n",
       "      <td>nik221107</td>\n",
       "      <td>1523</td>\n",
       "      <td>adivanov2009</td>\n",
       "      <td>1469</td>\n",
       "      <td>e4 e5 Nf3 d6 d4 Nc6 d5 Nb4 a3 Na6 Nc3 Be7 b4 N...</td>\n",
       "      <td>C41</td>\n",
       "      <td>5</td>\n",
       "      <td>Philidor Defense</td>\n",
       "      <td>Philidor Defense</td>\n",
       "      <td>NaN</td>\n",
       "      <td>NaN</td>\n",
       "    </tr>\n",
       "  </tbody>\n",
       "</table>\n",
       "</div>"
      ],
      "text/plain": [
       "   rated  turns victory_status winner time_increment       white_id  \\\n",
       "0  False     13    Out of Time  White           15+2       bourgris   \n",
       "1   True     16         Resign  Black           5+10           a-00   \n",
       "2   True     61           Mate  White           5+10         ischia   \n",
       "3   True     61           Mate  White           20+0  daniamurashov   \n",
       "4   True     95           Mate  White           30+3      nik221107   \n",
       "\n",
       "   white_rating      black_id  black_rating  \\\n",
       "0          1500          a-00          1191   \n",
       "1          1322     skinnerua          1261   \n",
       "2          1496          a-00          1500   \n",
       "3          1439  adivanov2009          1454   \n",
       "4          1523  adivanov2009          1469   \n",
       "\n",
       "                                               moves opening_code  \\\n",
       "0  d4 d5 c4 c6 cxd5 e6 dxe6 fxe6 Nf3 Bb4+ Nc3 Ba5...          D10   \n",
       "1  d4 Nc6 e4 e5 f4 f6 dxe5 fxe5 fxe5 Nxe5 Qd4 Nc6...          B00   \n",
       "2  e4 e5 d3 d6 Be3 c6 Be2 b5 Nd2 a5 a4 c5 axb5 Nc...          C20   \n",
       "3  d4 d5 Nf3 Bf5 Nc3 Nf6 Bf4 Ng4 e3 Nc6 Be2 Qd7 O...          D02   \n",
       "4  e4 e5 Nf3 d6 d4 Nc6 d5 Nb4 a3 Na6 Nc3 Be7 b4 N...          C41   \n",
       "\n",
       "   opening_moves                        opening_fullname    opening_shortname  \\\n",
       "0              5        Slav Defense: Exchange Variation         Slav Defense   \n",
       "1              4  Nimzowitsch Defense: Kennedy Variation  Nimzowitsch Defense   \n",
       "2              3   King's Pawn Game: Leonardis Variation     King's Pawn Game   \n",
       "3              3  Queen's Pawn Game: Zukertort Variation    Queen's Pawn Game   \n",
       "4              5                        Philidor Defense     Philidor Defense   \n",
       "\n",
       "  opening_response    opening_variation  \n",
       "0              NaN   Exchange Variation  \n",
       "1              NaN    Kennedy Variation  \n",
       "2              NaN  Leonardis Variation  \n",
       "3              NaN  Zukertort Variation  \n",
       "4              NaN                  NaN  "
      ]
     },
     "execution_count": 61,
     "metadata": {},
     "output_type": "execute_result"
    }
   ],
   "source": [
    "data.drop(['game_id'],axis=1,inplace=True)\n",
    "data.head()"
   ]
  },
  {
   "cell_type": "markdown",
   "id": "9ccdc21f",
   "metadata": {},
   "source": [
    "### Observation:\n",
    "1. Droping the unnecessary column"
   ]
  },
  {
   "cell_type": "markdown",
   "id": "7bfc9d8b",
   "metadata": {},
   "source": [
    "### Basic information of the dataset"
   ]
  },
  {
   "cell_type": "code",
   "execution_count": 62,
   "id": "a809dd5a",
   "metadata": {},
   "outputs": [
    {
     "name": "stdout",
     "output_type": "stream",
     "text": [
      "<class 'pandas.core.frame.DataFrame'>\n",
      "RangeIndex: 20058 entries, 0 to 20057\n",
      "Data columns (total 16 columns):\n",
      " #   Column             Non-Null Count  Dtype \n",
      "---  ------             --------------  ----- \n",
      " 0   rated              20058 non-null  bool  \n",
      " 1   turns              20058 non-null  int64 \n",
      " 2   victory_status     20058 non-null  object\n",
      " 3   winner             20058 non-null  object\n",
      " 4   time_increment     20058 non-null  object\n",
      " 5   white_id           20058 non-null  object\n",
      " 6   white_rating       20058 non-null  int64 \n",
      " 7   black_id           20058 non-null  object\n",
      " 8   black_rating       20058 non-null  int64 \n",
      " 9   moves              20058 non-null  object\n",
      " 10  opening_code       20058 non-null  object\n",
      " 11  opening_moves      20058 non-null  int64 \n",
      " 12  opening_fullname   20058 non-null  object\n",
      " 13  opening_shortname  20058 non-null  object\n",
      " 14  opening_response   1207 non-null   object\n",
      " 15  opening_variation  14398 non-null  object\n",
      "dtypes: bool(1), int64(4), object(11)\n",
      "memory usage: 2.3+ MB\n"
     ]
    }
   ],
   "source": [
    "data.info() # info is a function that returns the basic iformation like number of non-null values, dtype and all the columns."
   ]
  },
  {
   "cell_type": "markdown",
   "id": "c7cb6492",
   "metadata": {},
   "source": [
    "### Statistical information of the numarical columns."
   ]
  },
  {
   "cell_type": "code",
   "execution_count": 64,
   "id": "3939da24",
   "metadata": {},
   "outputs": [
    {
     "data": {
      "text/html": [
       "<div>\n",
       "<style scoped>\n",
       "    .dataframe tbody tr th:only-of-type {\n",
       "        vertical-align: middle;\n",
       "    }\n",
       "\n",
       "    .dataframe tbody tr th {\n",
       "        vertical-align: top;\n",
       "    }\n",
       "\n",
       "    .dataframe thead th {\n",
       "        text-align: right;\n",
       "    }\n",
       "</style>\n",
       "<table border=\"1\" class=\"dataframe\">\n",
       "  <thead>\n",
       "    <tr style=\"text-align: right;\">\n",
       "      <th></th>\n",
       "      <th>turns</th>\n",
       "      <th>white_rating</th>\n",
       "      <th>black_rating</th>\n",
       "      <th>opening_moves</th>\n",
       "    </tr>\n",
       "  </thead>\n",
       "  <tbody>\n",
       "    <tr>\n",
       "      <th>count</th>\n",
       "      <td>20058.000000</td>\n",
       "      <td>20058.000000</td>\n",
       "      <td>20058.000000</td>\n",
       "      <td>20058.000000</td>\n",
       "    </tr>\n",
       "    <tr>\n",
       "      <th>mean</th>\n",
       "      <td>60.465999</td>\n",
       "      <td>1596.631868</td>\n",
       "      <td>1588.831987</td>\n",
       "      <td>4.816981</td>\n",
       "    </tr>\n",
       "    <tr>\n",
       "      <th>std</th>\n",
       "      <td>33.570585</td>\n",
       "      <td>291.253376</td>\n",
       "      <td>291.036126</td>\n",
       "      <td>2.797152</td>\n",
       "    </tr>\n",
       "    <tr>\n",
       "      <th>min</th>\n",
       "      <td>1.000000</td>\n",
       "      <td>784.000000</td>\n",
       "      <td>789.000000</td>\n",
       "      <td>1.000000</td>\n",
       "    </tr>\n",
       "    <tr>\n",
       "      <th>25%</th>\n",
       "      <td>37.000000</td>\n",
       "      <td>1398.000000</td>\n",
       "      <td>1391.000000</td>\n",
       "      <td>3.000000</td>\n",
       "    </tr>\n",
       "    <tr>\n",
       "      <th>50%</th>\n",
       "      <td>55.000000</td>\n",
       "      <td>1567.000000</td>\n",
       "      <td>1562.000000</td>\n",
       "      <td>4.000000</td>\n",
       "    </tr>\n",
       "    <tr>\n",
       "      <th>75%</th>\n",
       "      <td>79.000000</td>\n",
       "      <td>1793.000000</td>\n",
       "      <td>1784.000000</td>\n",
       "      <td>6.000000</td>\n",
       "    </tr>\n",
       "    <tr>\n",
       "      <th>max</th>\n",
       "      <td>349.000000</td>\n",
       "      <td>2700.000000</td>\n",
       "      <td>2723.000000</td>\n",
       "      <td>28.000000</td>\n",
       "    </tr>\n",
       "  </tbody>\n",
       "</table>\n",
       "</div>"
      ],
      "text/plain": [
       "              turns  white_rating  black_rating  opening_moves\n",
       "count  20058.000000  20058.000000  20058.000000   20058.000000\n",
       "mean      60.465999   1596.631868   1588.831987       4.816981\n",
       "std       33.570585    291.253376    291.036126       2.797152\n",
       "min        1.000000    784.000000    789.000000       1.000000\n",
       "25%       37.000000   1398.000000   1391.000000       3.000000\n",
       "50%       55.000000   1567.000000   1562.000000       4.000000\n",
       "75%       79.000000   1793.000000   1784.000000       6.000000\n",
       "max      349.000000   2700.000000   2723.000000      28.000000"
      ]
     },
     "execution_count": 64,
     "metadata": {},
     "output_type": "execute_result"
    }
   ],
   "source": [
    "data.describe() # .describe() used to on the numarical columns and it will return the discriptive statistics of the values."
   ]
  },
  {
   "cell_type": "code",
   "execution_count": 63,
   "id": "d95be233",
   "metadata": {},
   "outputs": [
    {
     "data": {
      "text/plain": [
       "Index(['rated', 'turns', 'victory_status', 'winner', 'time_increment',\n",
       "       'white_id', 'white_rating', 'black_id', 'black_rating', 'moves',\n",
       "       'opening_code', 'opening_moves', 'opening_fullname',\n",
       "       'opening_shortname', 'opening_response', 'opening_variation'],\n",
       "      dtype='object')"
      ]
     },
     "execution_count": 63,
     "metadata": {},
     "output_type": "execute_result"
    }
   ],
   "source": [
    "data.columns # columns use to see all the columns that are preent in the dataset"
   ]
  },
  {
   "cell_type": "code",
   "execution_count": 7,
   "id": "e6e88d11",
   "metadata": {},
   "outputs": [
    {
     "data": {
      "text/plain": [
       "rated                    0\n",
       "turns                    0\n",
       "victory_status           0\n",
       "winner                   0\n",
       "time_increment           0\n",
       "white_id                 0\n",
       "white_rating             0\n",
       "black_id                 0\n",
       "black_rating             0\n",
       "moves                    0\n",
       "opening_code             0\n",
       "opening_moves            0\n",
       "opening_fullname         0\n",
       "opening_shortname        0\n",
       "opening_response     18851\n",
       "opening_variation     5660\n",
       "dtype: int64"
      ]
     },
     "execution_count": 7,
     "metadata": {},
     "output_type": "execute_result"
    }
   ],
   "source": [
    "data.isnull().sum()  # isnull().sum() used to see the number of null values in the data column"
   ]
  },
  {
   "cell_type": "markdown",
   "id": "b206c4d0",
   "metadata": {},
   "source": [
    "### Observation.\n",
    "1. there are missing values in opening_response, opening_variation"
   ]
  },
  {
   "cell_type": "code",
   "execution_count": 65,
   "id": "e177cf92",
   "metadata": {},
   "outputs": [
    {
     "data": {
      "text/plain": [
       "rated                    2\n",
       "turns                  211\n",
       "victory_status           4\n",
       "winner                   3\n",
       "time_increment         400\n",
       "white_id              9438\n",
       "white_rating          1516\n",
       "black_id              9331\n",
       "black_rating          1521\n",
       "moves                18920\n",
       "opening_code           365\n",
       "opening_moves           23\n",
       "opening_fullname      1477\n",
       "opening_shortname      128\n",
       "opening_response         3\n",
       "opening_variation      615\n",
       "dtype: int64"
      ]
     },
     "execution_count": 65,
     "metadata": {},
     "output_type": "execute_result"
    }
   ],
   "source": [
    "data.nunique()\n",
    "# nuique is used to see the number of unique values present in the all the columns"
   ]
  },
  {
   "cell_type": "markdown",
   "id": "4a0ecd6b",
   "metadata": {},
   "source": [
    "### Observation.\n",
    "1. since there are lots of missing values in the column opening_response drop the column."
   ]
  },
  {
   "cell_type": "code",
   "execution_count": 66,
   "id": "5440c0ba",
   "metadata": {},
   "outputs": [
    {
     "data": {
      "text/html": [
       "<div>\n",
       "<style scoped>\n",
       "    .dataframe tbody tr th:only-of-type {\n",
       "        vertical-align: middle;\n",
       "    }\n",
       "\n",
       "    .dataframe tbody tr th {\n",
       "        vertical-align: top;\n",
       "    }\n",
       "\n",
       "    .dataframe thead th {\n",
       "        text-align: right;\n",
       "    }\n",
       "</style>\n",
       "<table border=\"1\" class=\"dataframe\">\n",
       "  <thead>\n",
       "    <tr style=\"text-align: right;\">\n",
       "      <th></th>\n",
       "      <th>rated</th>\n",
       "      <th>turns</th>\n",
       "      <th>victory_status</th>\n",
       "      <th>winner</th>\n",
       "      <th>time_increment</th>\n",
       "      <th>white_id</th>\n",
       "      <th>white_rating</th>\n",
       "      <th>black_id</th>\n",
       "      <th>black_rating</th>\n",
       "      <th>moves</th>\n",
       "      <th>opening_code</th>\n",
       "      <th>opening_moves</th>\n",
       "      <th>opening_fullname</th>\n",
       "      <th>opening_shortname</th>\n",
       "      <th>opening_variation</th>\n",
       "    </tr>\n",
       "  </thead>\n",
       "  <tbody>\n",
       "    <tr>\n",
       "      <th>0</th>\n",
       "      <td>False</td>\n",
       "      <td>13</td>\n",
       "      <td>Out of Time</td>\n",
       "      <td>White</td>\n",
       "      <td>15+2</td>\n",
       "      <td>bourgris</td>\n",
       "      <td>1500</td>\n",
       "      <td>a-00</td>\n",
       "      <td>1191</td>\n",
       "      <td>d4 d5 c4 c6 cxd5 e6 dxe6 fxe6 Nf3 Bb4+ Nc3 Ba5...</td>\n",
       "      <td>D10</td>\n",
       "      <td>5</td>\n",
       "      <td>Slav Defense: Exchange Variation</td>\n",
       "      <td>Slav Defense</td>\n",
       "      <td>Exchange Variation</td>\n",
       "    </tr>\n",
       "    <tr>\n",
       "      <th>1</th>\n",
       "      <td>True</td>\n",
       "      <td>16</td>\n",
       "      <td>Resign</td>\n",
       "      <td>Black</td>\n",
       "      <td>5+10</td>\n",
       "      <td>a-00</td>\n",
       "      <td>1322</td>\n",
       "      <td>skinnerua</td>\n",
       "      <td>1261</td>\n",
       "      <td>d4 Nc6 e4 e5 f4 f6 dxe5 fxe5 fxe5 Nxe5 Qd4 Nc6...</td>\n",
       "      <td>B00</td>\n",
       "      <td>4</td>\n",
       "      <td>Nimzowitsch Defense: Kennedy Variation</td>\n",
       "      <td>Nimzowitsch Defense</td>\n",
       "      <td>Kennedy Variation</td>\n",
       "    </tr>\n",
       "    <tr>\n",
       "      <th>2</th>\n",
       "      <td>True</td>\n",
       "      <td>61</td>\n",
       "      <td>Mate</td>\n",
       "      <td>White</td>\n",
       "      <td>5+10</td>\n",
       "      <td>ischia</td>\n",
       "      <td>1496</td>\n",
       "      <td>a-00</td>\n",
       "      <td>1500</td>\n",
       "      <td>e4 e5 d3 d6 Be3 c6 Be2 b5 Nd2 a5 a4 c5 axb5 Nc...</td>\n",
       "      <td>C20</td>\n",
       "      <td>3</td>\n",
       "      <td>King's Pawn Game: Leonardis Variation</td>\n",
       "      <td>King's Pawn Game</td>\n",
       "      <td>Leonardis Variation</td>\n",
       "    </tr>\n",
       "    <tr>\n",
       "      <th>3</th>\n",
       "      <td>True</td>\n",
       "      <td>61</td>\n",
       "      <td>Mate</td>\n",
       "      <td>White</td>\n",
       "      <td>20+0</td>\n",
       "      <td>daniamurashov</td>\n",
       "      <td>1439</td>\n",
       "      <td>adivanov2009</td>\n",
       "      <td>1454</td>\n",
       "      <td>d4 d5 Nf3 Bf5 Nc3 Nf6 Bf4 Ng4 e3 Nc6 Be2 Qd7 O...</td>\n",
       "      <td>D02</td>\n",
       "      <td>3</td>\n",
       "      <td>Queen's Pawn Game: Zukertort Variation</td>\n",
       "      <td>Queen's Pawn Game</td>\n",
       "      <td>Zukertort Variation</td>\n",
       "    </tr>\n",
       "    <tr>\n",
       "      <th>4</th>\n",
       "      <td>True</td>\n",
       "      <td>95</td>\n",
       "      <td>Mate</td>\n",
       "      <td>White</td>\n",
       "      <td>30+3</td>\n",
       "      <td>nik221107</td>\n",
       "      <td>1523</td>\n",
       "      <td>adivanov2009</td>\n",
       "      <td>1469</td>\n",
       "      <td>e4 e5 Nf3 d6 d4 Nc6 d5 Nb4 a3 Na6 Nc3 Be7 b4 N...</td>\n",
       "      <td>C41</td>\n",
       "      <td>5</td>\n",
       "      <td>Philidor Defense</td>\n",
       "      <td>Philidor Defense</td>\n",
       "      <td>NaN</td>\n",
       "    </tr>\n",
       "  </tbody>\n",
       "</table>\n",
       "</div>"
      ],
      "text/plain": [
       "   rated  turns victory_status winner time_increment       white_id  \\\n",
       "0  False     13    Out of Time  White           15+2       bourgris   \n",
       "1   True     16         Resign  Black           5+10           a-00   \n",
       "2   True     61           Mate  White           5+10         ischia   \n",
       "3   True     61           Mate  White           20+0  daniamurashov   \n",
       "4   True     95           Mate  White           30+3      nik221107   \n",
       "\n",
       "   white_rating      black_id  black_rating  \\\n",
       "0          1500          a-00          1191   \n",
       "1          1322     skinnerua          1261   \n",
       "2          1496          a-00          1500   \n",
       "3          1439  adivanov2009          1454   \n",
       "4          1523  adivanov2009          1469   \n",
       "\n",
       "                                               moves opening_code  \\\n",
       "0  d4 d5 c4 c6 cxd5 e6 dxe6 fxe6 Nf3 Bb4+ Nc3 Ba5...          D10   \n",
       "1  d4 Nc6 e4 e5 f4 f6 dxe5 fxe5 fxe5 Nxe5 Qd4 Nc6...          B00   \n",
       "2  e4 e5 d3 d6 Be3 c6 Be2 b5 Nd2 a5 a4 c5 axb5 Nc...          C20   \n",
       "3  d4 d5 Nf3 Bf5 Nc3 Nf6 Bf4 Ng4 e3 Nc6 Be2 Qd7 O...          D02   \n",
       "4  e4 e5 Nf3 d6 d4 Nc6 d5 Nb4 a3 Na6 Nc3 Be7 b4 N...          C41   \n",
       "\n",
       "   opening_moves                        opening_fullname    opening_shortname  \\\n",
       "0              5        Slav Defense: Exchange Variation         Slav Defense   \n",
       "1              4  Nimzowitsch Defense: Kennedy Variation  Nimzowitsch Defense   \n",
       "2              3   King's Pawn Game: Leonardis Variation     King's Pawn Game   \n",
       "3              3  Queen's Pawn Game: Zukertort Variation    Queen's Pawn Game   \n",
       "4              5                        Philidor Defense     Philidor Defense   \n",
       "\n",
       "     opening_variation  \n",
       "0   Exchange Variation  \n",
       "1    Kennedy Variation  \n",
       "2  Leonardis Variation  \n",
       "3  Zukertort Variation  \n",
       "4                  NaN  "
      ]
     },
     "execution_count": 66,
     "metadata": {},
     "output_type": "execute_result"
    }
   ],
   "source": [
    "data.drop(['opening_response'],axis=1,inplace=True)\n",
    "data.head()"
   ]
  },
  {
   "cell_type": "code",
   "execution_count": 9,
   "id": "15c8261b",
   "metadata": {},
   "outputs": [
    {
     "data": {
      "text/plain": [
       "rated                   0\n",
       "turns                   0\n",
       "victory_status          0\n",
       "winner                  0\n",
       "time_increment          0\n",
       "white_id                0\n",
       "white_rating            0\n",
       "black_id                0\n",
       "black_rating            0\n",
       "moves                   0\n",
       "opening_code            0\n",
       "opening_moves           0\n",
       "opening_fullname        0\n",
       "opening_shortname       0\n",
       "opening_variation    5660\n",
       "dtype: int64"
      ]
     },
     "execution_count": 9,
     "metadata": {},
     "output_type": "execute_result"
    }
   ],
   "source": [
    "data.isnull().sum()"
   ]
  },
  {
   "cell_type": "code",
   "execution_count": 10,
   "id": "328c3d57",
   "metadata": {},
   "outputs": [
    {
     "data": {
      "text/plain": [
       "(14398, 15)"
      ]
     },
     "execution_count": 10,
     "metadata": {},
     "output_type": "execute_result"
    }
   ],
   "source": [
    "data.dropna(axis=0,inplace=True) # Droping the missing values\n",
    "data.shape"
   ]
  },
  {
   "cell_type": "code",
   "execution_count": 11,
   "id": "b151c8fc",
   "metadata": {},
   "outputs": [
    {
     "name": "stdout",
     "output_type": "stream",
     "text": [
      "rated\n",
      "True     11636\n",
      "False     2762\n",
      "Name: rated, dtype: int64\n",
      "*-**-**-**-**-**-**-**-**-**-**-**-**-**-**-**-**-**-**-**-*\n",
      "turns\n",
      "51     232\n",
      "57     226\n",
      "53     223\n",
      "45     223\n",
      "41     222\n",
      "      ... \n",
      "255      1\n",
      "216      1\n",
      "205      1\n",
      "218      1\n",
      "201      1\n",
      "Name: turns, Length: 204, dtype: int64\n",
      "*-**-**-**-**-**-**-**-**-**-**-**-**-**-**-**-**-**-**-**-*\n",
      "victory_status\n",
      "Resign         8152\n",
      "Mate           4397\n",
      "Out of Time    1180\n",
      "Draw            669\n",
      "Name: victory_status, dtype: int64\n",
      "*-**-**-**-**-**-**-**-**-**-**-**-**-**-**-**-**-**-**-**-*\n",
      "winner\n",
      "White    7241\n",
      "Black    6457\n",
      "Draw      700\n",
      "Name: winner, dtype: int64\n",
      "*-**-**-**-**-**-**-**-**-**-**-**-**-**-**-**-**-**-**-**-*\n",
      "time_increment\n",
      "10+0     5596\n",
      "15+0      976\n",
      "15+15     595\n",
      "5+5       547\n",
      "5+8       460\n",
      "         ... \n",
      "19+2        1\n",
      "14+5        1\n",
      "19+8        1\n",
      "35+0        1\n",
      "8+45        1\n",
      "Name: time_increment, Length: 356, dtype: int64\n",
      "*-**-**-**-**-**-**-**-**-**-**-**-**-**-**-**-**-**-**-**-*\n",
      "white_id\n",
      "taranga          57\n",
      "a_p_t_e_m_u_u    38\n",
      "chess-brahs      38\n",
      "saviter          36\n",
      "hassan1365416    34\n",
      "                 ..\n",
      "andrey-03         1\n",
      "rsl1005           1\n",
      "lenin8            1\n",
      "slava010976       1\n",
      "samael88          1\n",
      "Name: white_id, Length: 7188, dtype: int64\n",
      "*-**-**-**-**-**-**-**-**-**-**-**-**-**-**-**-**-**-**-**-*\n",
      "white_rating\n",
      "1500    537\n",
      "1480     43\n",
      "1501     36\n",
      "1696     34\n",
      "1400     34\n",
      "       ... \n",
      "2198      1\n",
      "2251      1\n",
      "2090      1\n",
      "943       1\n",
      "880       1\n",
      "Name: white_rating, Length: 1441, dtype: int64\n",
      "*-**-**-**-**-**-**-**-**-**-**-**-**-**-**-**-**-**-**-**-*\n",
      "black_id\n",
      "taranga               55\n",
      "vladimir-kramnik-1    50\n",
      "ducksandcats          39\n",
      "a_p_t_e_m_u_u         32\n",
      "jdbarger              29\n",
      "                      ..\n",
      "grooveman              1\n",
      "stiffypawn             1\n",
      "piggy1122              1\n",
      "rascanalg              1\n",
      "ffbob                  1\n",
      "Name: black_id, Length: 7125, dtype: int64\n",
      "*-**-**-**-**-**-**-**-**-**-**-**-**-**-**-**-**-**-**-**-*\n",
      "black_rating\n",
      "1500    561\n",
      "1810     43\n",
      "1501     43\n",
      "1562     34\n",
      "1466     34\n",
      "       ... \n",
      "943       1\n",
      "923       1\n",
      "911       1\n",
      "2316      1\n",
      "860       1\n",
      "Name: black_rating, Length: 1451, dtype: int64\n",
      "*-**-**-**-**-**-**-**-**-**-**-**-**-**-**-**-**-**-**-**-*\n",
      "moves\n",
      "e4 e6                                                                                                                                                                                                                                                                                                                                                                                                     9\n",
      "Nf3 d5 g3 c5 Bg2 Nc6 d3 Nf6 O-O e5 Nc3 d4 Ne4 Nxe4 dxe4 Be7 e3 O-O exd4 cxd4 Re1 Be6 Bd2 Qb6 b3 f6 Qe2 Nb4 Bxb4 Bxb4 Red1 Rac8 Rac1 Rc6 Nh4 Ba3 Rb1 Rfc8 Rd2 Bb4 Rdd1 Rxc2 Qf3 Rxa2 Nf5 Rcc2 Rf1 Bf8 Rfc1 Rxf2                                                                                                                                                                                            5\n",
      "e4 d6                                                                                                                                                                                                                                                                                                                                                                                                     5\n",
      "e4 e5 Nf3 Nc6                                                                                                                                                                                                                                                                                                                                                                                             5\n",
      "e4 e5 Nf3 Nc6 Bb5 a6 Ba4 Nf6 Nc3 Be7 d4 exd4 Nxd4 Nxd4 Qxd4 O-O Nd5 Nxd5 Qxd5 c6 Qd3 Qa5+ Bd2 Qxa4 O-O Bf6 Qc3 Bxc3                                                                                                                                                                                                                                                                                       4\n",
      "                                                                                                                                                                                                                                                                                                                                                                                                         ..\n",
      "d3 e5 e4 Bd6 d4 f6 d5 Ne7 Be3 c5 Bc4 a6 Nf3 b6 Nc3 O-O Na4 b5 Bxc5 bxa4 Bxd6 Ng6 Bxf8 Qxf8 d6+ Kh8 Qd5 Ra7 g3 Bb7 Qd3 Bc6 Nh4 Nxh4 gxh4 a5 O-O-O g5 hxg5 fxg5 Rhg1 Qxf2 Rxg5 Qxh2 Rg8#                                                                                                                                                                                                                    1\n",
      "e4 e6 d3 Bc5 Nf3 d5 d4 Bd6 Bd3 Nc6 c3 b6 O-O Nce7 Nbd2 Bb7 Qa4+ c6 Bb5 cxb5 Qxb5+ Nc6 Qd3 Qc7 b4 Nf6 b5 Na5 a4 Nxe4 Nxe4 dxe4 Qe3 exf3 gxf3 Bxh2+ Kg2 Nb3 Rb1 Nxc1 Rbxc1 O-O-O Rh1 Bf4 Qd3 Bxc1 Rxc1 Bd5 Re1 Qc4 Qe3 Qxa4 Qf4 Qxb5 Qxf7 Rhf8 Qxg7 Rxf3 Qxa7 Rxf2+ Kxf2 Rf8+ Ke3 Rf3+ Kd2 Qb2+ Kd1 Qb1+ Ke2 Qd3#                                                                                           1\n",
      "e4 e6 Nf3 Bd6 g3 b6 Nc3 Bb7 d3 f5 exf5 exf5 Bf4 Bxf4 gxf4 d5 d4 c6 Qe2+ Ne7 O-O-O g6 Re1 Nd7 Ne5 b5 Nxd7 Qxd7 Bg2 b4 Na4 c5 Nxc5 Qc6 Qe5 O-O-O a3 Rhe8 Qe6+ Qxe6 Nxe6 Rd6 axb4 Nc6 c3 Rdxe6 Rxe6 Rxe6 Bxd5 Re2 Be6+ Kc7 d5 Ne7 c4 Ba6 b5 Bb7 Kd1 Rxb2 Re1 Rxf2 Re2 Rxf4 Rc2 Rf1+ Kd2 Rf2+ Kc3 Rf3+ Kb2 a6 d6+ Kxd6 bxa6 Bxa6 c5+ Kxe6 c6 Bc8 c7 f4 Rc3 g5 h3 Rf2+ Rc2 Rf3 h4 gxh4 Rc3 Rf2+ Rc2 Bd7 Kb3    1\n",
      "e4 e6 d4 b5 Bxb5 c6 Be2 g6 b3 d5 e5 f5 Nf3 Nh6 Ng5 Be7 Nxe6 Bxe6 Bxh6 Nd7 O-O Nf8 Nc3 Rb8 Na4 Rb4 c3 Rb7 Ba6 Rb8 Nc5 Bxc5 dxc5 g5 Qh5+ Ng6 Bxg5 Qa5 Be2 Qxc3 Bf6 Rg8 Qxh7 Qxc5 Bh5 Rb7 Qxb7 d4 Qb8+ Kf7 Qb7+ Ke8 Bxg6+ Rxg6 Qb8+ Kf7 Qc7+ Ke8 Qd8+ Kf7                                                                                                                                                    1\n",
      "d4 d5 Bf4 Na6 e3 e6 c3 Nf6 Nf3 Bd7 Nbd2 b5 Bd3 Qc8 e4 b4 e5 Ne4 Nxe4 dxe4 Bxe4 bxc3 Bxa8 Qxa8 bxc3 Ba3 Rb1 c5 Qd3 O-O Qxa6 Bc6 Qxa3 Bxf3 gxf3 Qxf3 Qxa7 Qxh1+ Ke2 Qxb1 Qxc5 Qc2+ Ke3 Qxa2 Qb4 h6 c4 g5 Bg3 Qa8 c5 Rb8 Qc3 f5 f4 Qe4+ Kd2 Qg2+ Kd3 gxf4 Bxf4 Qf3+ Kc4 Qxf4 c6 Qf1+ Kc5 Rb1 Qg3+ Kf7 c7 Rc1+ Kd6 Qa6+ Kd7 Qb5+ Kd8 Qe8#                                                                     1\n",
      "Name: moves, Length: 13681, dtype: int64\n",
      "*-**-**-**-**-**-**-**-**-**-**-**-**-**-**-**-**-**-**-**-*\n",
      "opening_code\n",
      "C00    823\n",
      "C20    598\n",
      "D00    567\n",
      "C41    556\n",
      "B01    493\n",
      "      ... \n",
      "E18      1\n",
      "D95      1\n",
      "D22      1\n",
      "C31      1\n",
      "D19      1\n",
      "Name: opening_code, Length: 354, dtype: int64\n",
      "*-**-**-**-**-**-**-**-**-**-**-**-**-**-**-**-**-**-**-**-*\n",
      "opening_moves\n",
      "3     2904\n",
      "4     2563\n",
      "5     2001\n",
      "6     1658\n",
      "7     1192\n",
      "8     1077\n",
      "2     1065\n",
      "9      657\n",
      "11     412\n",
      "10     408\n",
      "12     135\n",
      "13     126\n",
      "14      57\n",
      "15      40\n",
      "17      35\n",
      "16      31\n",
      "18      12\n",
      "19      11\n",
      "20       8\n",
      "28       4\n",
      "22       1\n",
      "24       1\n",
      "Name: opening_moves, dtype: int64\n",
      "*-**-**-**-**-**-**-**-**-**-**-**-**-**-**-**-**-**-**-**-*\n",
      "opening_fullname\n",
      "Sicilian Defense: Bowdler Attack                                   296\n",
      "French Defense: Knight Variation                                   271\n",
      "Scandinavian Defense: Mieses-Kotroc Variation                      259\n",
      "Queen's Pawn Game: Mason Attack                                    232\n",
      "Queen's Pawn Game: Chigorin Variation                              229\n",
      "                                                                  ... \n",
      "Polish Opening: Baltic Defense                                       1\n",
      "Sicilian Defense: Smith-Morra Gambit Declined |  Wing Formation      1\n",
      "Indian Game: Omega Gambit                                            1\n",
      "Italian Game: Evans Gambit |  Stone-Ware Variation                   1\n",
      "Sicilian Defense: Najdorf Variation |  Polugaevsky Variation         1\n",
      "Name: opening_fullname, Length: 1298, dtype: int64\n",
      "*-**-**-**-**-**-**-**-**-**-**-**-**-**-**-**-**-**-**-**-*\n",
      "opening_shortname\n",
      "Sicilian Defense       2274\n",
      "French Defense         1403\n",
      "Queen's Pawn Game      1091\n",
      "Italian Game            872\n",
      "King's Pawn Game        861\n",
      "                       ... \n",
      "Portuguese Opening        1\n",
      "Goldsmith Defense         1\n",
      "Pterodactyl Defense       1\n",
      "Rubinstein Opening        1\n",
      "Benko Gambit              1\n",
      "Name: opening_shortname, Length: 84, dtype: int64\n",
      "*-**-**-**-**-**-**-**-**-**-**-**-**-**-**-**-**-**-**-**-*\n",
      "opening_variation\n",
      "#2                         797\n",
      "Exchange Variation         444\n",
      "Classical Variation        419\n",
      "Normal Variation           377\n",
      "Advance Variation          301\n",
      "                          ... \n",
      "Taimanov Variation           1\n",
      "Been-Koomen Variation        1\n",
      "Philidor Gambit              1\n",
      "Romanishin Variation #2      1\n",
      "Slav                         1\n",
      "Name: opening_variation, Length: 615, dtype: int64\n",
      "*-**-**-**-**-**-**-**-**-**-**-**-**-**-**-**-**-**-**-**-*\n"
     ]
    }
   ],
   "source": [
    "for i in data.columns:\n",
    "    print(i)\n",
    "    print(data[i].value_counts())\n",
    "    print('*-*'*20)"
   ]
  },
  {
   "cell_type": "code",
   "execution_count": 12,
   "id": "20bd447c",
   "metadata": {},
   "outputs": [
    {
     "data": {
      "text/plain": [
       "<AxesSubplot:ylabel='rated'>"
      ]
     },
     "execution_count": 12,
     "metadata": {},
     "output_type": "execute_result"
    },
    {
     "data": {
      "image/png": "[encoded data removed]",
      "text/plain": [
       "<Figure size 432x288 with 1 Axes>"
      ]
     },
     "metadata": {},
     "output_type": "display_data"
    }
   ],
   "source": [
    "# Pie plot on rated column\n",
    "data['rated'].value_counts().plot(kind='pie',autopct='%0.1f%%') "
   ]
  },
  {
   "cell_type": "markdown",
   "id": "12d6df50",
   "metadata": {},
   "source": [
    "### Observation:\n",
    "1. the 80.8% of data contains True rates "
   ]
  },
  {
   "cell_type": "code",
   "execution_count": 13,
   "id": "90f294d1",
   "metadata": {},
   "outputs": [
    {
     "data": {
      "text/plain": [
       "<AxesSubplot:ylabel='victory_status'>"
      ]
     },
     "execution_count": 13,
     "metadata": {},
     "output_type": "execute_result"
    },
    {
     "data": {
      "image/png": "[encoded data removed]",
      "text/plain": [
       "<Figure size 432x288 with 1 Axes>"
      ]
     },
     "metadata": {},
     "output_type": "display_data"
    }
   ],
   "source": [
    "# Pie plot on victory_status column\n",
    "data['victory_status'].value_counts().plot(kind='pie',autopct='%0.1f%%')"
   ]
  },
  {
   "cell_type": "markdown",
   "id": "5c5f1da6",
   "metadata": {},
   "source": [
    "### Observation:\n",
    "1. 56% of the victory status data contains resign "
   ]
  },
  {
   "cell_type": "code",
   "execution_count": 14,
   "id": "d53c0eac",
   "metadata": {},
   "outputs": [
    {
     "data": {
      "text/plain": [
       "<AxesSubplot:ylabel='winner'>"
      ]
     },
     "execution_count": 14,
     "metadata": {},
     "output_type": "execute_result"
    },
    {
     "data": {
      "image/png": "[encoded data removed]",
      "text/plain": [
       "<Figure size 432x288 with 1 Axes>"
      ]
     },
     "metadata": {},
     "output_type": "display_data"
    }
   ],
   "source": [
    "# Pie plot on winner column\n",
    "data['winner'].value_counts().plot(kind='pie',autopct='%0.1f%%')"
   ]
  },
  {
   "cell_type": "code",
   "execution_count": 15,
   "id": "36999843",
   "metadata": {},
   "outputs": [
    {
     "data": {
      "text/html": [
       "<div>\n",
       "<style scoped>\n",
       "    .dataframe tbody tr th:only-of-type {\n",
       "        vertical-align: middle;\n",
       "    }\n",
       "\n",
       "    .dataframe tbody tr th {\n",
       "        vertical-align: top;\n",
       "    }\n",
       "\n",
       "    .dataframe thead th {\n",
       "        text-align: right;\n",
       "    }\n",
       "</style>\n",
       "<table border=\"1\" class=\"dataframe\">\n",
       "  <thead>\n",
       "    <tr style=\"text-align: right;\">\n",
       "      <th></th>\n",
       "      <th>rated</th>\n",
       "      <th>turns</th>\n",
       "      <th>victory_status</th>\n",
       "      <th>winner</th>\n",
       "      <th>time_increment</th>\n",
       "      <th>white_id</th>\n",
       "      <th>white_rating</th>\n",
       "      <th>black_id</th>\n",
       "      <th>black_rating</th>\n",
       "      <th>moves</th>\n",
       "      <th>opening_code</th>\n",
       "      <th>opening_moves</th>\n",
       "      <th>opening_fullname</th>\n",
       "      <th>opening_shortname</th>\n",
       "      <th>opening_variation</th>\n",
       "    </tr>\n",
       "  </thead>\n",
       "  <tbody>\n",
       "    <tr>\n",
       "      <th>5</th>\n",
       "      <td>False</td>\n",
       "      <td>5</td>\n",
       "      <td>Draw</td>\n",
       "      <td>Draw</td>\n",
       "      <td>10+0</td>\n",
       "      <td>trelynn17</td>\n",
       "      <td>1250</td>\n",
       "      <td>franklin14532</td>\n",
       "      <td>1002</td>\n",
       "      <td>e4 c5 Nf3 Qa5 a3</td>\n",
       "      <td>B27</td>\n",
       "      <td>4</td>\n",
       "      <td>Sicilian Defense: Mongoose Variation</td>\n",
       "      <td>Sicilian Defense</td>\n",
       "      <td>Mongoose Variation</td>\n",
       "    </tr>\n",
       "    <tr>\n",
       "      <th>40</th>\n",
       "      <td>False</td>\n",
       "      <td>32</td>\n",
       "      <td>Draw</td>\n",
       "      <td>Draw</td>\n",
       "      <td>20+25</td>\n",
       "      <td>white_queen_1990</td>\n",
       "      <td>1207</td>\n",
       "      <td>shivangithegenius</td>\n",
       "      <td>978</td>\n",
       "      <td>e4 c5 Nf3 d6 d4 cxd4 Nxd4 Nf6 Nc3 g6 Bg5 Bg7 B...</td>\n",
       "      <td>B70</td>\n",
       "      <td>10</td>\n",
       "      <td>Sicilian Defense: Dragon Variation</td>\n",
       "      <td>Sicilian Defense</td>\n",
       "      <td>Dragon Variation</td>\n",
       "    </tr>\n",
       "    <tr>\n",
       "      <th>98</th>\n",
       "      <td>True</td>\n",
       "      <td>113</td>\n",
       "      <td>Draw</td>\n",
       "      <td>Draw</td>\n",
       "      <td>15+0</td>\n",
       "      <td>avelez8</td>\n",
       "      <td>1745</td>\n",
       "      <td>anonymous1705</td>\n",
       "      <td>1714</td>\n",
       "      <td>d4 d5 c4 Nf6 Nc3 Bf5 Bf4 a6 Nf3 e6 a3 Nc6 e3 B...</td>\n",
       "      <td>D06</td>\n",
       "      <td>4</td>\n",
       "      <td>Queen's Gambit Refused: Marshall Defense</td>\n",
       "      <td>Queen's Gambit</td>\n",
       "      <td>Marshall Defense</td>\n",
       "    </tr>\n",
       "    <tr>\n",
       "      <th>126</th>\n",
       "      <td>True</td>\n",
       "      <td>120</td>\n",
       "      <td>Draw</td>\n",
       "      <td>Draw</td>\n",
       "      <td>15+15</td>\n",
       "      <td>sureka_akshat</td>\n",
       "      <td>1139</td>\n",
       "      <td>sassou</td>\n",
       "      <td>1212</td>\n",
       "      <td>e4 Nf6 Nc3 e5 Nf3 Nc6 Bc4 Bc5 O-O O-O d3 d6 h3...</td>\n",
       "      <td>C50</td>\n",
       "      <td>8</td>\n",
       "      <td>Four Knights Game: Italian Variation</td>\n",
       "      <td>Four Knights Game</td>\n",
       "      <td>Italian Variation</td>\n",
       "    </tr>\n",
       "    <tr>\n",
       "      <th>181</th>\n",
       "      <td>True</td>\n",
       "      <td>107</td>\n",
       "      <td>Draw</td>\n",
       "      <td>Draw</td>\n",
       "      <td>15+5</td>\n",
       "      <td>isachess</td>\n",
       "      <td>1866</td>\n",
       "      <td>claudiucojo</td>\n",
       "      <td>1835</td>\n",
       "      <td>e4 e5 Nf3 Nc6 Bc4 Nf6 d3 h6 O-O Bc5 a4 O-O c3 ...</td>\n",
       "      <td>C55</td>\n",
       "      <td>7</td>\n",
       "      <td>Italian Game: Two Knights Defense |  Modern Bi...</td>\n",
       "      <td>Italian Game</td>\n",
       "      <td>Two Knights Defense</td>\n",
       "    </tr>\n",
       "    <tr>\n",
       "      <th>...</th>\n",
       "      <td>...</td>\n",
       "      <td>...</td>\n",
       "      <td>...</td>\n",
       "      <td>...</td>\n",
       "      <td>...</td>\n",
       "      <td>...</td>\n",
       "      <td>...</td>\n",
       "      <td>...</td>\n",
       "      <td>...</td>\n",
       "      <td>...</td>\n",
       "      <td>...</td>\n",
       "      <td>...</td>\n",
       "      <td>...</td>\n",
       "      <td>...</td>\n",
       "      <td>...</td>\n",
       "    </tr>\n",
       "    <tr>\n",
       "      <th>20003</th>\n",
       "      <td>True</td>\n",
       "      <td>103</td>\n",
       "      <td>Draw</td>\n",
       "      <td>Draw</td>\n",
       "      <td>30+30</td>\n",
       "      <td>moistvonlipwig</td>\n",
       "      <td>2283</td>\n",
       "      <td>chess4life</td>\n",
       "      <td>2358</td>\n",
       "      <td>e4 c5 Nc3 e6 f4 d5 Nf3 dxe4 Nxe4 Nc6 b3 Nf6 Bd...</td>\n",
       "      <td>B23</td>\n",
       "      <td>4</td>\n",
       "      <td>Sicilian Defense: Closed</td>\n",
       "      <td>Sicilian Defense</td>\n",
       "      <td>Closed</td>\n",
       "    </tr>\n",
       "    <tr>\n",
       "      <th>20004</th>\n",
       "      <td>True</td>\n",
       "      <td>109</td>\n",
       "      <td>Draw</td>\n",
       "      <td>Draw</td>\n",
       "      <td>30+30</td>\n",
       "      <td>god666</td>\n",
       "      <td>2214</td>\n",
       "      <td>moistvonlipwig</td>\n",
       "      <td>2286</td>\n",
       "      <td>f4 d5 Nf3 Nf6 e3 g6 Be2 Bg7 O-O O-O b3 Ne4 Ne5...</td>\n",
       "      <td>A03</td>\n",
       "      <td>2</td>\n",
       "      <td>Bird Opening: Dutch Variation</td>\n",
       "      <td>Bird Opening</td>\n",
       "      <td>Dutch Variation</td>\n",
       "    </tr>\n",
       "    <tr>\n",
       "      <th>20011</th>\n",
       "      <td>True</td>\n",
       "      <td>63</td>\n",
       "      <td>Draw</td>\n",
       "      <td>Draw</td>\n",
       "      <td>45+45</td>\n",
       "      <td>moistvonlipwig</td>\n",
       "      <td>2239</td>\n",
       "      <td>atrophied</td>\n",
       "      <td>2401</td>\n",
       "      <td>e4 c5 Nc3 Nc6 f4 g6 Nf3 Bg7 Bb5 Nd4 O-O Nxb5 N...</td>\n",
       "      <td>B23</td>\n",
       "      <td>5</td>\n",
       "      <td>Sicilian Defense: Grand Prix Attack</td>\n",
       "      <td>Sicilian Defense</td>\n",
       "      <td>Grand Prix Attack</td>\n",
       "    </tr>\n",
       "    <tr>\n",
       "      <th>20014</th>\n",
       "      <td>True</td>\n",
       "      <td>109</td>\n",
       "      <td>Draw</td>\n",
       "      <td>Draw</td>\n",
       "      <td>45+45</td>\n",
       "      <td>moistvonlipwig</td>\n",
       "      <td>2229</td>\n",
       "      <td>mn8</td>\n",
       "      <td>2220</td>\n",
       "      <td>e4 e5 Nf3 Nc6 Bc4 Bc5 c3 Nf6 d4 exd4 cxd4 Bb4+...</td>\n",
       "      <td>C54</td>\n",
       "      <td>17</td>\n",
       "      <td>Italian Game: Classical Variation |  Greco Gam...</td>\n",
       "      <td>Italian Game</td>\n",
       "      <td>Classical Variation</td>\n",
       "    </tr>\n",
       "    <tr>\n",
       "      <th>20034</th>\n",
       "      <td>True</td>\n",
       "      <td>100</td>\n",
       "      <td>Draw</td>\n",
       "      <td>Draw</td>\n",
       "      <td>45+45</td>\n",
       "      <td>jamboger</td>\n",
       "      <td>1258</td>\n",
       "      <td>nadgob</td>\n",
       "      <td>1620</td>\n",
       "      <td>c4 e5 Nc3 Nf6 Nf3 Nc6 d4 exd4 Nxd4 Nxd4 Qxd4 c...</td>\n",
       "      <td>A28</td>\n",
       "      <td>6</td>\n",
       "      <td>English Opening: King's English Variation |  F...</td>\n",
       "      <td>English Opening</td>\n",
       "      <td>King's English Variation</td>\n",
       "    </tr>\n",
       "  </tbody>\n",
       "</table>\n",
       "<p>700 rows × 15 columns</p>\n",
       "</div>"
      ],
      "text/plain": [
       "       rated  turns victory_status winner time_increment          white_id  \\\n",
       "5      False      5           Draw   Draw           10+0         trelynn17   \n",
       "40     False     32           Draw   Draw          20+25  white_queen_1990   \n",
       "98      True    113           Draw   Draw           15+0           avelez8   \n",
       "126     True    120           Draw   Draw          15+15     sureka_akshat   \n",
       "181     True    107           Draw   Draw           15+5          isachess   \n",
       "...      ...    ...            ...    ...            ...               ...   \n",
       "20003   True    103           Draw   Draw          30+30    moistvonlipwig   \n",
       "20004   True    109           Draw   Draw          30+30            god666   \n",
       "20011   True     63           Draw   Draw          45+45    moistvonlipwig   \n",
       "20014   True    109           Draw   Draw          45+45    moistvonlipwig   \n",
       "20034   True    100           Draw   Draw          45+45          jamboger   \n",
       "\n",
       "       white_rating           black_id  black_rating  \\\n",
       "5              1250      franklin14532          1002   \n",
       "40             1207  shivangithegenius           978   \n",
       "98             1745      anonymous1705          1714   \n",
       "126            1139             sassou          1212   \n",
       "181            1866        claudiucojo          1835   \n",
       "...             ...                ...           ...   \n",
       "20003          2283         chess4life          2358   \n",
       "20004          2214     moistvonlipwig          2286   \n",
       "20011          2239          atrophied          2401   \n",
       "20014          2229                mn8          2220   \n",
       "20034          1258             nadgob          1620   \n",
       "\n",
       "                                                   moves opening_code  \\\n",
       "5                                       e4 c5 Nf3 Qa5 a3          B27   \n",
       "40     e4 c5 Nf3 d6 d4 cxd4 Nxd4 Nf6 Nc3 g6 Bg5 Bg7 B...          B70   \n",
       "98     d4 d5 c4 Nf6 Nc3 Bf5 Bf4 a6 Nf3 e6 a3 Nc6 e3 B...          D06   \n",
       "126    e4 Nf6 Nc3 e5 Nf3 Nc6 Bc4 Bc5 O-O O-O d3 d6 h3...          C50   \n",
       "181    e4 e5 Nf3 Nc6 Bc4 Nf6 d3 h6 O-O Bc5 a4 O-O c3 ...          C55   \n",
       "...                                                  ...          ...   \n",
       "20003  e4 c5 Nc3 e6 f4 d5 Nf3 dxe4 Nxe4 Nc6 b3 Nf6 Bd...          B23   \n",
       "20004  f4 d5 Nf3 Nf6 e3 g6 Be2 Bg7 O-O O-O b3 Ne4 Ne5...          A03   \n",
       "20011  e4 c5 Nc3 Nc6 f4 g6 Nf3 Bg7 Bb5 Nd4 O-O Nxb5 N...          B23   \n",
       "20014  e4 e5 Nf3 Nc6 Bc4 Bc5 c3 Nf6 d4 exd4 cxd4 Bb4+...          C54   \n",
       "20034  c4 e5 Nc3 Nf6 Nf3 Nc6 d4 exd4 Nxd4 Nxd4 Qxd4 c...          A28   \n",
       "\n",
       "       opening_moves                                   opening_fullname  \\\n",
       "5                  4               Sicilian Defense: Mongoose Variation   \n",
       "40                10                 Sicilian Defense: Dragon Variation   \n",
       "98                 4           Queen's Gambit Refused: Marshall Defense   \n",
       "126                8               Four Knights Game: Italian Variation   \n",
       "181                7  Italian Game: Two Knights Defense |  Modern Bi...   \n",
       "...              ...                                                ...   \n",
       "20003              4                           Sicilian Defense: Closed   \n",
       "20004              2                      Bird Opening: Dutch Variation   \n",
       "20011              5                Sicilian Defense: Grand Prix Attack   \n",
       "20014             17  Italian Game: Classical Variation |  Greco Gam...   \n",
       "20034              6  English Opening: King's English Variation |  F...   \n",
       "\n",
       "       opening_shortname         opening_variation  \n",
       "5       Sicilian Defense        Mongoose Variation  \n",
       "40      Sicilian Defense          Dragon Variation  \n",
       "98        Queen's Gambit          Marshall Defense  \n",
       "126    Four Knights Game         Italian Variation  \n",
       "181         Italian Game       Two Knights Defense  \n",
       "...                  ...                       ...  \n",
       "20003   Sicilian Defense                    Closed  \n",
       "20004       Bird Opening           Dutch Variation  \n",
       "20011   Sicilian Defense         Grand Prix Attack  \n",
       "20014       Italian Game       Classical Variation  \n",
       "20034    English Opening  King's English Variation  \n",
       "\n",
       "[700 rows x 15 columns]"
      ]
     },
     "execution_count": 15,
     "metadata": {},
     "output_type": "execute_result"
    }
   ],
   "source": [
    "# Drop the draw matchs\n",
    "data[data['winner']=='Draw']"
   ]
  },
  {
   "cell_type": "code",
   "execution_count": 16,
   "id": "a999e3de",
   "metadata": {},
   "outputs": [
    {
     "data": {
      "text/plain": [
       "Int64Index([    5,    40,    98,   126,   181,   220,   291,   301,   319,\n",
       "              326,\n",
       "            ...\n",
       "            19834, 19931, 19937, 19974, 19993, 20003, 20004, 20011, 20014,\n",
       "            20034],\n",
       "           dtype='int64', length=700)"
      ]
     },
     "execution_count": 16,
     "metadata": {},
     "output_type": "execute_result"
    }
   ],
   "source": [
    "a=data[data['winner']=='Draw'].index\n",
    "a"
   ]
  },
  {
   "cell_type": "code",
   "execution_count": 17,
   "id": "afd5dee8",
   "metadata": {},
   "outputs": [
    {
     "data": {
      "text/plain": [
       "(13698, 15)"
      ]
     },
     "execution_count": 17,
     "metadata": {},
     "output_type": "execute_result"
    }
   ],
   "source": [
    "data.drop(a,axis=0,inplace=True)\n",
    "data.shape"
   ]
  },
  {
   "cell_type": "code",
   "execution_count": 18,
   "id": "79bada6a",
   "metadata": {},
   "outputs": [
    {
     "data": {
      "text/plain": [
       "<AxesSubplot:ylabel='winner'>"
      ]
     },
     "execution_count": 18,
     "metadata": {},
     "output_type": "execute_result"
    },
    {
     "data": {
      "image/png": "[encoded data removed]",
      "text/plain": [
       "<Figure size 432x288 with 1 Axes>"
      ]
     },
     "metadata": {},
     "output_type": "display_data"
    }
   ],
   "source": [
    "data['winner'].value_counts().plot(kind='pie',autopct='%0.1f%%')"
   ]
  },
  {
   "cell_type": "markdown",
   "id": "f9a21c64",
   "metadata": {},
   "source": [
    "### Observation\n",
    "1. data after removeing draw matches. "
   ]
  },
  {
   "cell_type": "code",
   "execution_count": 19,
   "id": "19ee32d2",
   "metadata": {},
   "outputs": [
    {
     "data": {
      "text/plain": [
       "Text(0, 0.5, 'opening_moves')"
      ]
     },
     "execution_count": 19,
     "metadata": {},
     "output_type": "execute_result"
    },
    {
     "data": {
      "image/png": "[encoded data removed]",
      "text/plain": [
       "<Figure size 1080x144 with 1 Axes>"
      ]
     },
     "metadata": {
      "needs_background": "light"
     },
     "output_type": "display_data"
    }
   ],
   "source": [
    "y=data.groupby(['victory_status'])['opening_moves']\n",
    "plt.figure(figsize=(15,2))\n",
    "y.mean().plot(kind='bar',color=['pink', 'm', 'black', 'g' ])\n",
    "plt.xlabel('victory_status')\n",
    "plt.ylabel('opening_moves')"
   ]
  },
  {
   "cell_type": "markdown",
   "id": "9ee60736",
   "metadata": {},
   "source": [
    "### Observation:\n",
    "1. victory_status of resign are more when compared with opening_moves"
   ]
  },
  {
   "cell_type": "code",
   "execution_count": 20,
   "id": "381a678a",
   "metadata": {},
   "outputs": [
    {
     "data": {
      "text/plain": [
       "Text(0, 0.5, 'turns')"
      ]
     },
     "execution_count": 20,
     "metadata": {},
     "output_type": "execute_result"
    },
    {
     "data": {
      "image/png": "[encoded data removed]",
      "text/plain": [
       "<Figure size 1080x144 with 1 Axes>"
      ]
     },
     "metadata": {
      "needs_background": "light"
     },
     "output_type": "display_data"
    }
   ],
   "source": [
    "y=data.groupby(['victory_status'])['turns']\n",
    "plt.figure(figsize=(15,2))\n",
    "y.mean().plot(kind='bar',color=['pink', 'm', 'black', 'g' ])\n",
    "plt.xlabel('victory_status')\n",
    "plt.ylabel('turns')"
   ]
  },
  {
   "cell_type": "markdown",
   "id": "6994cf19",
   "metadata": {},
   "source": [
    "### Observation:\n",
    "1. victory_status column contains more out of time compared with tuns. "
   ]
  },
  {
   "cell_type": "code",
   "execution_count": 67,
   "id": "23a00991",
   "metadata": {},
   "outputs": [
    {
     "data": {
      "text/plain": [
       "Text(0.5, 0, 'turns')"
      ]
     },
     "execution_count": 67,
     "metadata": {},
     "output_type": "execute_result"
    },
    {
     "data": {
      "image/png": "[encoded data removed]",
      "text/plain": [
       "<Figure size 1080x720 with 1 Axes>"
      ]
     },
     "metadata": {
      "needs_background": "light"
     },
     "output_type": "display_data"
    }
   ],
   "source": [
    "# distplot\n",
    "plt.figure(figsize=(15,10))\n",
    "sns.distplot(x=data.turns) \n",
    "plt.title('turns distribution cure')\n",
    "plt.xlabel('turns')"
   ]
  },
  {
   "cell_type": "markdown",
   "id": "83b5f155",
   "metadata": {},
   "source": [
    "### Observation:\n",
    "1. the maxium players are having 50 number of turns"
   ]
  },
  {
   "cell_type": "markdown",
   "id": "50cc15ae",
   "metadata": {},
   "source": [
    "### findig outliers"
   ]
  },
  {
   "cell_type": "code",
   "execution_count": 22,
   "id": "75bc2440",
   "metadata": {},
   "outputs": [
    {
     "data": {
      "text/plain": [
       "<AxesSubplot:xlabel='turns'>"
      ]
     },
     "execution_count": 22,
     "metadata": {},
     "output_type": "execute_result"
    },
    {
     "data": {
      "image/png": "[encoded data removed]",
      "text/plain": [
       "<Figure size 432x288 with 1 Axes>"
      ]
     },
     "metadata": {
      "needs_background": "light"
     },
     "output_type": "display_data"
    }
   ],
   "source": [
    "sns.boxplot(data['turns'])"
   ]
  },
  {
   "cell_type": "code",
   "execution_count": 23,
   "id": "1c505dea",
   "metadata": {},
   "outputs": [
    {
     "data": {
      "text/plain": [
       "<AxesSubplot:xlabel='opening_moves'>"
      ]
     },
     "execution_count": 23,
     "metadata": {},
     "output_type": "execute_result"
    },
    {
     "data": {
      "image/png": "[encoded data removed]",
      "text/plain": [
       "<Figure size 432x288 with 1 Axes>"
      ]
     },
     "metadata": {
      "needs_background": "light"
     },
     "output_type": "display_data"
    }
   ],
   "source": [
    "sns.boxplot(data['opening_moves'])"
   ]
  },
  {
   "cell_type": "code",
   "execution_count": null,
   "id": "82bd1a60",
   "metadata": {},
   "outputs": [],
   "source": [
    "### Observation.\n",
    "1. There are lots of ouliers in in turns column,\n",
    "2. removing the outliers using IQR method."
   ]
  },
  {
   "cell_type": "code",
   "execution_count": 24,
   "id": "f074e107",
   "metadata": {},
   "outputs": [
    {
     "name": "stdout",
     "output_type": "stream",
     "text": [
      "turns_a Int64Index([], dtype='int64')\n",
      "turns_b Int64Index([  108,   180,   190,   213,   265,   582,   827,   916,  1067,\n",
      "             1090,\n",
      "            ...\n",
      "            19618, 19723, 19817, 19819, 19842, 19882, 19922, 19940, 19947,\n",
      "            19990],\n",
      "           dtype='int64', length=366)\n"
     ]
    }
   ],
   "source": [
    "turns_l=np.percentile(data['turns'].values,[25,50,75])\n",
    "turns_iqr=turns_l[-1]-turns_l[0]\n",
    "turns_lw=turns_l[0]-(1.5*turns_iqr)\n",
    "turns_uw=turns_l[-1]+(1.5*turns_iqr)\n",
    "turns_a=data.loc[(data['turns']<turns_lw)]\n",
    "turns_b=data.loc[(data['turns']>turns_uw)]\n",
    "print('turns_a',turns_a.index)\n",
    "print('turns_b',turns_b.index)"
   ]
  },
  {
   "cell_type": "markdown",
   "id": "a06f5dba",
   "metadata": {},
   "source": [
    "### Observation\n",
    "1. the outliers are toward the upperwiscus"
   ]
  },
  {
   "cell_type": "code",
   "execution_count": 25,
   "id": "c8a1f77c",
   "metadata": {},
   "outputs": [],
   "source": [
    "data.loc[turns_b.index,'turns']=turns_uw"
   ]
  },
  {
   "cell_type": "code",
   "execution_count": 26,
   "id": "84637ee0",
   "metadata": {},
   "outputs": [
    {
     "data": {
      "text/plain": [
       "<AxesSubplot:xlabel='turns'>"
      ]
     },
     "execution_count": 26,
     "metadata": {},
     "output_type": "execute_result"
    },
    {
     "data": {
      "image/png": "[encoded data removed]",
      "text/plain": [
       "<Figure size 432x288 with 1 Axes>"
      ]
     },
     "metadata": {
      "needs_background": "light"
     },
     "output_type": "display_data"
    }
   ],
   "source": [
    "sns.boxplot(data['turns'])"
   ]
  },
  {
   "cell_type": "code",
   "execution_count": 27,
   "id": "66a70c27",
   "metadata": {},
   "outputs": [
    {
     "data": {
      "text/plain": [
       "<AxesSubplot:>"
      ]
     },
     "execution_count": 27,
     "metadata": {},
     "output_type": "execute_result"
    },
    {
     "data": {
      "image/png": "[encoded data removed]",
      "text/plain": [
       "<Figure size 432x288 with 2 Axes>"
      ]
     },
     "metadata": {
      "needs_background": "light"
     },
     "output_type": "display_data"
    }
   ],
   "source": [
    "sns.heatmap(data.corr(),annot=True)   #heatmap"
   ]
  },
  {
   "cell_type": "code",
   "execution_count": 28,
   "id": "20527117",
   "metadata": {},
   "outputs": [
    {
     "data": {
      "text/html": [
       "<div>\n",
       "<style scoped>\n",
       "    .dataframe tbody tr th:only-of-type {\n",
       "        vertical-align: middle;\n",
       "    }\n",
       "\n",
       "    .dataframe tbody tr th {\n",
       "        vertical-align: top;\n",
       "    }\n",
       "\n",
       "    .dataframe thead th {\n",
       "        text-align: right;\n",
       "    }\n",
       "</style>\n",
       "<table border=\"1\" class=\"dataframe\">\n",
       "  <thead>\n",
       "    <tr style=\"text-align: right;\">\n",
       "      <th></th>\n",
       "      <th>rated</th>\n",
       "      <th>turns</th>\n",
       "      <th>victory_status</th>\n",
       "      <th>winner</th>\n",
       "      <th>opening_moves</th>\n",
       "      <th>white_rating</th>\n",
       "      <th>black_rating</th>\n",
       "    </tr>\n",
       "  </thead>\n",
       "  <tbody>\n",
       "    <tr>\n",
       "      <th>0</th>\n",
       "      <td>False</td>\n",
       "      <td>13.0</td>\n",
       "      <td>Out of Time</td>\n",
       "      <td>White</td>\n",
       "      <td>5</td>\n",
       "      <td>1500</td>\n",
       "      <td>1191</td>\n",
       "    </tr>\n",
       "    <tr>\n",
       "      <th>1</th>\n",
       "      <td>True</td>\n",
       "      <td>16.0</td>\n",
       "      <td>Resign</td>\n",
       "      <td>Black</td>\n",
       "      <td>4</td>\n",
       "      <td>1322</td>\n",
       "      <td>1261</td>\n",
       "    </tr>\n",
       "    <tr>\n",
       "      <th>2</th>\n",
       "      <td>True</td>\n",
       "      <td>61.0</td>\n",
       "      <td>Mate</td>\n",
       "      <td>White</td>\n",
       "      <td>3</td>\n",
       "      <td>1496</td>\n",
       "      <td>1500</td>\n",
       "    </tr>\n",
       "    <tr>\n",
       "      <th>3</th>\n",
       "      <td>True</td>\n",
       "      <td>61.0</td>\n",
       "      <td>Mate</td>\n",
       "      <td>White</td>\n",
       "      <td>3</td>\n",
       "      <td>1439</td>\n",
       "      <td>1454</td>\n",
       "    </tr>\n",
       "    <tr>\n",
       "      <th>6</th>\n",
       "      <td>True</td>\n",
       "      <td>33.0</td>\n",
       "      <td>Resign</td>\n",
       "      <td>White</td>\n",
       "      <td>10</td>\n",
       "      <td>1520</td>\n",
       "      <td>1423</td>\n",
       "    </tr>\n",
       "    <tr>\n",
       "      <th>...</th>\n",
       "      <td>...</td>\n",
       "      <td>...</td>\n",
       "      <td>...</td>\n",
       "      <td>...</td>\n",
       "      <td>...</td>\n",
       "      <td>...</td>\n",
       "      <td>...</td>\n",
       "    </tr>\n",
       "    <tr>\n",
       "      <th>20049</th>\n",
       "      <td>True</td>\n",
       "      <td>43.0</td>\n",
       "      <td>Mate</td>\n",
       "      <td>White</td>\n",
       "      <td>5</td>\n",
       "      <td>1328</td>\n",
       "      <td>1252</td>\n",
       "    </tr>\n",
       "    <tr>\n",
       "      <th>20050</th>\n",
       "      <td>True</td>\n",
       "      <td>9.0</td>\n",
       "      <td>Out of Time</td>\n",
       "      <td>White</td>\n",
       "      <td>2</td>\n",
       "      <td>1243</td>\n",
       "      <td>1142</td>\n",
       "    </tr>\n",
       "    <tr>\n",
       "      <th>20051</th>\n",
       "      <td>True</td>\n",
       "      <td>58.0</td>\n",
       "      <td>Mate</td>\n",
       "      <td>Black</td>\n",
       "      <td>3</td>\n",
       "      <td>1237</td>\n",
       "      <td>1231</td>\n",
       "    </tr>\n",
       "    <tr>\n",
       "      <th>20055</th>\n",
       "      <td>True</td>\n",
       "      <td>35.0</td>\n",
       "      <td>Mate</td>\n",
       "      <td>White</td>\n",
       "      <td>3</td>\n",
       "      <td>1219</td>\n",
       "      <td>1286</td>\n",
       "    </tr>\n",
       "    <tr>\n",
       "      <th>20057</th>\n",
       "      <td>True</td>\n",
       "      <td>78.0</td>\n",
       "      <td>Mate</td>\n",
       "      <td>Black</td>\n",
       "      <td>3</td>\n",
       "      <td>1235</td>\n",
       "      <td>1339</td>\n",
       "    </tr>\n",
       "  </tbody>\n",
       "</table>\n",
       "<p>13698 rows × 7 columns</p>\n",
       "</div>"
      ],
      "text/plain": [
       "       rated  turns victory_status winner  opening_moves  white_rating  \\\n",
       "0      False   13.0    Out of Time  White              5          1500   \n",
       "1       True   16.0         Resign  Black              4          1322   \n",
       "2       True   61.0           Mate  White              3          1496   \n",
       "3       True   61.0           Mate  White              3          1439   \n",
       "6       True   33.0         Resign  White             10          1520   \n",
       "...      ...    ...            ...    ...            ...           ...   \n",
       "20049   True   43.0           Mate  White              5          1328   \n",
       "20050   True    9.0    Out of Time  White              2          1243   \n",
       "20051   True   58.0           Mate  Black              3          1237   \n",
       "20055   True   35.0           Mate  White              3          1219   \n",
       "20057   True   78.0           Mate  Black              3          1235   \n",
       "\n",
       "       black_rating  \n",
       "0              1191  \n",
       "1              1261  \n",
       "2              1500  \n",
       "3              1454  \n",
       "6              1423  \n",
       "...             ...  \n",
       "20049          1252  \n",
       "20050          1142  \n",
       "20051          1231  \n",
       "20055          1286  \n",
       "20057          1339  \n",
       "\n",
       "[13698 rows x 7 columns]"
      ]
     },
     "execution_count": 28,
     "metadata": {},
     "output_type": "execute_result"
    }
   ],
   "source": [
    "ndata=data[['rated','turns','victory_status','winner','opening_moves','white_rating','black_rating']]\n",
    "ndata"
   ]
  },
  {
   "cell_type": "code",
   "execution_count": 29,
   "id": "ebba5ad1",
   "metadata": {},
   "outputs": [],
   "source": [
    "datanew=ndata[['opening_moves']]"
   ]
  },
  {
   "cell_type": "code",
   "execution_count": 30,
   "id": "e8d5c10f",
   "metadata": {},
   "outputs": [
    {
     "data": {
      "text/html": [
       "<div>\n",
       "<style scoped>\n",
       "    .dataframe tbody tr th:only-of-type {\n",
       "        vertical-align: middle;\n",
       "    }\n",
       "\n",
       "    .dataframe tbody tr th {\n",
       "        vertical-align: top;\n",
       "    }\n",
       "\n",
       "    .dataframe thead th {\n",
       "        text-align: right;\n",
       "    }\n",
       "</style>\n",
       "<table border=\"1\" class=\"dataframe\">\n",
       "  <thead>\n",
       "    <tr style=\"text-align: right;\">\n",
       "      <th></th>\n",
       "      <th>turns</th>\n",
       "      <th>white_rating</th>\n",
       "      <th>black_rating</th>\n",
       "    </tr>\n",
       "  </thead>\n",
       "  <tbody>\n",
       "    <tr>\n",
       "      <th>0</th>\n",
       "      <td>13.0</td>\n",
       "      <td>1500</td>\n",
       "      <td>1191</td>\n",
       "    </tr>\n",
       "    <tr>\n",
       "      <th>1</th>\n",
       "      <td>16.0</td>\n",
       "      <td>1322</td>\n",
       "      <td>1261</td>\n",
       "    </tr>\n",
       "    <tr>\n",
       "      <th>2</th>\n",
       "      <td>61.0</td>\n",
       "      <td>1496</td>\n",
       "      <td>1500</td>\n",
       "    </tr>\n",
       "    <tr>\n",
       "      <th>3</th>\n",
       "      <td>61.0</td>\n",
       "      <td>1439</td>\n",
       "      <td>1454</td>\n",
       "    </tr>\n",
       "    <tr>\n",
       "      <th>6</th>\n",
       "      <td>33.0</td>\n",
       "      <td>1520</td>\n",
       "      <td>1423</td>\n",
       "    </tr>\n",
       "    <tr>\n",
       "      <th>...</th>\n",
       "      <td>...</td>\n",
       "      <td>...</td>\n",
       "      <td>...</td>\n",
       "    </tr>\n",
       "    <tr>\n",
       "      <th>20049</th>\n",
       "      <td>43.0</td>\n",
       "      <td>1328</td>\n",
       "      <td>1252</td>\n",
       "    </tr>\n",
       "    <tr>\n",
       "      <th>20050</th>\n",
       "      <td>9.0</td>\n",
       "      <td>1243</td>\n",
       "      <td>1142</td>\n",
       "    </tr>\n",
       "    <tr>\n",
       "      <th>20051</th>\n",
       "      <td>58.0</td>\n",
       "      <td>1237</td>\n",
       "      <td>1231</td>\n",
       "    </tr>\n",
       "    <tr>\n",
       "      <th>20055</th>\n",
       "      <td>35.0</td>\n",
       "      <td>1219</td>\n",
       "      <td>1286</td>\n",
       "    </tr>\n",
       "    <tr>\n",
       "      <th>20057</th>\n",
       "      <td>78.0</td>\n",
       "      <td>1235</td>\n",
       "      <td>1339</td>\n",
       "    </tr>\n",
       "  </tbody>\n",
       "</table>\n",
       "<p>13698 rows × 3 columns</p>\n",
       "</div>"
      ],
      "text/plain": [
       "       turns  white_rating  black_rating\n",
       "0       13.0          1500          1191\n",
       "1       16.0          1322          1261\n",
       "2       61.0          1496          1500\n",
       "3       61.0          1439          1454\n",
       "6       33.0          1520          1423\n",
       "...      ...           ...           ...\n",
       "20049   43.0          1328          1252\n",
       "20050    9.0          1243          1142\n",
       "20051   58.0          1237          1231\n",
       "20055   35.0          1219          1286\n",
       "20057   78.0          1235          1339\n",
       "\n",
       "[13698 rows x 3 columns]"
      ]
     },
     "execution_count": 30,
     "metadata": {},
     "output_type": "execute_result"
    }
   ],
   "source": [
    "data_num=ndata[['turns','white_rating','black_rating']]\n",
    "data_num"
   ]
  },
  {
   "cell_type": "code",
   "execution_count": 31,
   "id": "c2bd1f75",
   "metadata": {},
   "outputs": [
    {
     "data": {
      "text/html": [
       "<div>\n",
       "<style scoped>\n",
       "    .dataframe tbody tr th:only-of-type {\n",
       "        vertical-align: middle;\n",
       "    }\n",
       "\n",
       "    .dataframe tbody tr th {\n",
       "        vertical-align: top;\n",
       "    }\n",
       "\n",
       "    .dataframe thead th {\n",
       "        text-align: right;\n",
       "    }\n",
       "</style>\n",
       "<table border=\"1\" class=\"dataframe\">\n",
       "  <thead>\n",
       "    <tr style=\"text-align: right;\">\n",
       "      <th></th>\n",
       "      <th>turns</th>\n",
       "      <th>white_rating</th>\n",
       "      <th>black_rating</th>\n",
       "    </tr>\n",
       "  </thead>\n",
       "  <tbody>\n",
       "    <tr>\n",
       "      <th>0</th>\n",
       "      <td>-1.540365</td>\n",
       "      <td>-0.403453</td>\n",
       "      <td>-1.440984</td>\n",
       "    </tr>\n",
       "    <tr>\n",
       "      <th>1</th>\n",
       "      <td>-1.441666</td>\n",
       "      <td>-1.020672</td>\n",
       "      <td>-1.198823</td>\n",
       "    </tr>\n",
       "    <tr>\n",
       "      <th>2</th>\n",
       "      <td>0.038818</td>\n",
       "      <td>-0.417324</td>\n",
       "      <td>-0.372020</td>\n",
       "    </tr>\n",
       "    <tr>\n",
       "      <th>3</th>\n",
       "      <td>0.038818</td>\n",
       "      <td>-0.614972</td>\n",
       "      <td>-0.531154</td>\n",
       "    </tr>\n",
       "    <tr>\n",
       "      <th>6</th>\n",
       "      <td>-0.882372</td>\n",
       "      <td>-0.334103</td>\n",
       "      <td>-0.638396</td>\n",
       "    </tr>\n",
       "    <tr>\n",
       "      <th>...</th>\n",
       "      <td>...</td>\n",
       "      <td>...</td>\n",
       "      <td>...</td>\n",
       "    </tr>\n",
       "    <tr>\n",
       "      <th>20049</th>\n",
       "      <td>-0.553376</td>\n",
       "      <td>-0.999867</td>\n",
       "      <td>-1.229958</td>\n",
       "    </tr>\n",
       "    <tr>\n",
       "      <th>20050</th>\n",
       "      <td>-1.671964</td>\n",
       "      <td>-1.294606</td>\n",
       "      <td>-1.610496</td>\n",
       "    </tr>\n",
       "    <tr>\n",
       "      <th>20051</th>\n",
       "      <td>-0.059881</td>\n",
       "      <td>-1.315411</td>\n",
       "      <td>-1.302606</td>\n",
       "    </tr>\n",
       "    <tr>\n",
       "      <th>20055</th>\n",
       "      <td>-0.816573</td>\n",
       "      <td>-1.377826</td>\n",
       "      <td>-1.112338</td>\n",
       "    </tr>\n",
       "    <tr>\n",
       "      <th>20057</th>\n",
       "      <td>0.598112</td>\n",
       "      <td>-1.322346</td>\n",
       "      <td>-0.928988</td>\n",
       "    </tr>\n",
       "  </tbody>\n",
       "</table>\n",
       "<p>13698 rows × 3 columns</p>\n",
       "</div>"
      ],
      "text/plain": [
       "          turns  white_rating  black_rating\n",
       "0     -1.540365     -0.403453     -1.440984\n",
       "1     -1.441666     -1.020672     -1.198823\n",
       "2      0.038818     -0.417324     -0.372020\n",
       "3      0.038818     -0.614972     -0.531154\n",
       "6     -0.882372     -0.334103     -0.638396\n",
       "...         ...           ...           ...\n",
       "20049 -0.553376     -0.999867     -1.229958\n",
       "20050 -1.671964     -1.294606     -1.610496\n",
       "20051 -0.059881     -1.315411     -1.302606\n",
       "20055 -0.816573     -1.377826     -1.112338\n",
       "20057  0.598112     -1.322346     -0.928988\n",
       "\n",
       "[13698 rows x 3 columns]"
      ]
     },
     "execution_count": 31,
     "metadata": {},
     "output_type": "execute_result"
    }
   ],
   "source": [
    "scaler = StandardScaler()\n",
    "\n",
    "data_num = pd.DataFrame(scaler.fit_transform(data_num),\n",
    "                                    columns=data_num.columns,\n",
    "                                    index = data_num.index\n",
    "                                   )\n",
    "data_num\n",
    "# Applying StandardScaler on the numarical column, to avoid the scaling issue."
   ]
  },
  {
   "cell_type": "code",
   "execution_count": 34,
   "id": "a8a29828",
   "metadata": {},
   "outputs": [
    {
     "data": {
      "text/html": [
       "<div>\n",
       "<style scoped>\n",
       "    .dataframe tbody tr th:only-of-type {\n",
       "        vertical-align: middle;\n",
       "    }\n",
       "\n",
       "    .dataframe tbody tr th {\n",
       "        vertical-align: top;\n",
       "    }\n",
       "\n",
       "    .dataframe thead th {\n",
       "        text-align: right;\n",
       "    }\n",
       "</style>\n",
       "<table border=\"1\" class=\"dataframe\">\n",
       "  <thead>\n",
       "    <tr style=\"text-align: right;\">\n",
       "      <th></th>\n",
       "      <th>rated</th>\n",
       "      <th>victory_status</th>\n",
       "      <th>winner</th>\n",
       "    </tr>\n",
       "  </thead>\n",
       "  <tbody>\n",
       "    <tr>\n",
       "      <th>0</th>\n",
       "      <td>False</td>\n",
       "      <td>Out of Time</td>\n",
       "      <td>White</td>\n",
       "    </tr>\n",
       "    <tr>\n",
       "      <th>1</th>\n",
       "      <td>True</td>\n",
       "      <td>Resign</td>\n",
       "      <td>Black</td>\n",
       "    </tr>\n",
       "    <tr>\n",
       "      <th>2</th>\n",
       "      <td>True</td>\n",
       "      <td>Mate</td>\n",
       "      <td>White</td>\n",
       "    </tr>\n",
       "    <tr>\n",
       "      <th>3</th>\n",
       "      <td>True</td>\n",
       "      <td>Mate</td>\n",
       "      <td>White</td>\n",
       "    </tr>\n",
       "    <tr>\n",
       "      <th>6</th>\n",
       "      <td>True</td>\n",
       "      <td>Resign</td>\n",
       "      <td>White</td>\n",
       "    </tr>\n",
       "  </tbody>\n",
       "</table>\n",
       "</div>"
      ],
      "text/plain": [
       "   rated victory_status winner\n",
       "0  False    Out of Time  White\n",
       "1   True         Resign  Black\n",
       "2   True           Mate  White\n",
       "3   True           Mate  White\n",
       "6   True         Resign  White"
      ]
     },
     "execution_count": 34,
     "metadata": {},
     "output_type": "execute_result"
    }
   ],
   "source": [
    "encoder_=LabelEncoder() # LabelEncoder is use to convert the catogorical columns into o and 1.\n",
    "data_cat = ndata[['rated','victory_status','winner']]\n",
    "data_cat.head()"
   ]
  },
  {
   "cell_type": "code",
   "execution_count": 36,
   "id": "5549032e",
   "metadata": {},
   "outputs": [],
   "source": [
    "data_cat['rated']=encoder_.fit_transform(ndata['rated'])\n",
    "data_cat['victory_status']=encoder_.fit_transform(ndata['victory_status'])\n",
    "data_cat['winner']=encoder_.fit_transform(ndata['winner'])\n",
    "# data_cat contains the catogorical columns."
   ]
  },
  {
   "cell_type": "code",
   "execution_count": 37,
   "id": "a92e3661",
   "metadata": {},
   "outputs": [
    {
     "data": {
      "text/html": [
       "<div>\n",
       "<style scoped>\n",
       "    .dataframe tbody tr th:only-of-type {\n",
       "        vertical-align: middle;\n",
       "    }\n",
       "\n",
       "    .dataframe tbody tr th {\n",
       "        vertical-align: top;\n",
       "    }\n",
       "\n",
       "    .dataframe thead th {\n",
       "        text-align: right;\n",
       "    }\n",
       "</style>\n",
       "<table border=\"1\" class=\"dataframe\">\n",
       "  <thead>\n",
       "    <tr style=\"text-align: right;\">\n",
       "      <th></th>\n",
       "      <th>opening_moves</th>\n",
       "      <th>turns</th>\n",
       "      <th>white_rating</th>\n",
       "      <th>black_rating</th>\n",
       "      <th>rated</th>\n",
       "      <th>victory_status</th>\n",
       "      <th>winner</th>\n",
       "    </tr>\n",
       "  </thead>\n",
       "  <tbody>\n",
       "    <tr>\n",
       "      <th>0</th>\n",
       "      <td>5</td>\n",
       "      <td>-1.540365</td>\n",
       "      <td>-0.403453</td>\n",
       "      <td>-1.440984</td>\n",
       "      <td>0</td>\n",
       "      <td>1</td>\n",
       "      <td>1</td>\n",
       "    </tr>\n",
       "    <tr>\n",
       "      <th>1</th>\n",
       "      <td>4</td>\n",
       "      <td>-1.441666</td>\n",
       "      <td>-1.020672</td>\n",
       "      <td>-1.198823</td>\n",
       "      <td>1</td>\n",
       "      <td>2</td>\n",
       "      <td>0</td>\n",
       "    </tr>\n",
       "    <tr>\n",
       "      <th>2</th>\n",
       "      <td>3</td>\n",
       "      <td>0.038818</td>\n",
       "      <td>-0.417324</td>\n",
       "      <td>-0.372020</td>\n",
       "      <td>1</td>\n",
       "      <td>0</td>\n",
       "      <td>1</td>\n",
       "    </tr>\n",
       "    <tr>\n",
       "      <th>3</th>\n",
       "      <td>3</td>\n",
       "      <td>0.038818</td>\n",
       "      <td>-0.614972</td>\n",
       "      <td>-0.531154</td>\n",
       "      <td>1</td>\n",
       "      <td>0</td>\n",
       "      <td>1</td>\n",
       "    </tr>\n",
       "    <tr>\n",
       "      <th>6</th>\n",
       "      <td>10</td>\n",
       "      <td>-0.882372</td>\n",
       "      <td>-0.334103</td>\n",
       "      <td>-0.638396</td>\n",
       "      <td>1</td>\n",
       "      <td>2</td>\n",
       "      <td>1</td>\n",
       "    </tr>\n",
       "  </tbody>\n",
       "</table>\n",
       "</div>"
      ],
      "text/plain": [
       "   opening_moves     turns  white_rating  black_rating  rated  victory_status  \\\n",
       "0              5 -1.540365     -0.403453     -1.440984      0               1   \n",
       "1              4 -1.441666     -1.020672     -1.198823      1               2   \n",
       "2              3  0.038818     -0.417324     -0.372020      1               0   \n",
       "3              3  0.038818     -0.614972     -0.531154      1               0   \n",
       "6             10 -0.882372     -0.334103     -0.638396      1               2   \n",
       "\n",
       "   winner  \n",
       "0       1  \n",
       "1       0  \n",
       "2       1  \n",
       "3       1  \n",
       "6       1  "
      ]
     },
     "execution_count": 37,
     "metadata": {},
     "output_type": "execute_result"
    }
   ],
   "source": [
    "data_transformed = pd.concat([datanew,data_num,data_cat],axis=1)\n",
    "data_transformed.head() # data_transformed contains both thee numarical as well catagorical columns."
   ]
  },
  {
   "cell_type": "code",
   "execution_count": 39,
   "id": "6b0e1d8a",
   "metadata": {},
   "outputs": [],
   "source": [
    "fv = data_transformed.drop(columns='winner')\n",
    "label =data_transformed[['winner']]\n",
    "# fv contains all the indipendent variables and label contains the dependent variable."
   ]
  },
  {
   "cell_type": "code",
   "execution_count": 40,
   "id": "9630d6a3",
   "metadata": {},
   "outputs": [],
   "source": [
    "X_train , X_test , y_train , y_test = train_test_split(fv,label,train_size=0.8,random_state=3)\n",
    "# spliting the data into train and test with the train size of 80% ."
   ]
  },
  {
   "cell_type": "markdown",
   "id": "bad651d6",
   "metadata": {},
   "source": [
    "### Model building"
   ]
  },
  {
   "cell_type": "code",
   "execution_count": 41,
   "id": "668d984f",
   "metadata": {},
   "outputs": [
    {
     "name": "stdout",
     "output_type": "stream",
     "text": [
      "classification report for KNN \n",
      "               precision    recall  f1-score   support\n",
      "\n",
      "           0       0.58      0.57      0.57      1283\n",
      "           1       0.63      0.64      0.63      1457\n",
      "\n",
      "    accuracy                           0.61      2740\n",
      "   macro avg       0.60      0.60      0.60      2740\n",
      "weighted avg       0.60      0.61      0.61      2740\n",
      "\n"
     ]
    }
   ],
   "source": [
    "from sklearn.neighbors import KNeighborsClassifier\n",
    "clf_knn = KNeighborsClassifier()\n",
    "clf_knn.fit(X_train, y_train)\n",
    "# predicting with Knn\n",
    "y_pred_knn = clf_knn.predict(X_test)\n",
    "# score\n",
    "from sklearn.metrics import classification_report\n",
    "clf_rpt_knn = classification_report\n",
    "clf_rpt_knn = classification_report(y_test, y_pred_knn)\n",
    "print('classification report for KNN \\n', clf_rpt_knn)"
   ]
  },
  {
   "cell_type": "code",
   "execution_count": 42,
   "id": "3b681f97",
   "metadata": {},
   "outputs": [
    {
     "name": "stdout",
     "output_type": "stream",
     "text": [
      "classification report for Naive Bayes regression \n",
      "               precision    recall  f1-score   support\n",
      "\n",
      "           0       0.64      0.45      0.53      1283\n",
      "           1       0.62      0.78      0.69      1457\n",
      "\n",
      "    accuracy                           0.62      2740\n",
      "   macro avg       0.63      0.61      0.61      2740\n",
      "weighted avg       0.63      0.62      0.61      2740\n",
      "\n"
     ]
    }
   ],
   "source": [
    "from sklearn.naive_bayes import GaussianNB\n",
    "clf_gnb = GaussianNB()\n",
    "clf_gnb.fit(X_train, y_train)\n",
    "# Predicting with Guassian naive bayes\n",
    "y_pred_gnb = clf_gnb.predict(X_test)\n",
    "# score\n",
    "from sklearn.metrics import classification_report\n",
    "clf_rpt_NB = classification_report(y_test, y_pred_gnb)\n",
    "print('classification report for Naive Bayes regression \\n',clf_rpt_NB )"
   ]
  },
  {
   "cell_type": "code",
   "execution_count": 43,
   "id": "5b279a12",
   "metadata": {},
   "outputs": [
    {
     "name": "stdout",
     "output_type": "stream",
     "text": [
      "classification report for logistic regression \n",
      "               precision    recall  f1-score   support\n",
      "\n",
      "           0       0.63      0.58      0.61      1283\n",
      "           1       0.66      0.70      0.68      1457\n",
      "\n",
      "    accuracy                           0.65      2740\n",
      "   macro avg       0.64      0.64      0.64      2740\n",
      "weighted avg       0.65      0.65      0.64      2740\n",
      "\n"
     ]
    }
   ],
   "source": [
    "from sklearn.linear_model import LogisticRegression ## Logistic Regression\n",
    "clf_lr = LogisticRegression()\n",
    "clf_lr.fit(X_train, y_train)\n",
    "# Prediction using Logistic regression\n",
    "y_pred_lr = clf_lr.predict(X_test)\n",
    "# score\n",
    "from sklearn.metrics import classification_report\n",
    "clf_rpt_lr = classification_report(y_test, y_pred_lr)\n",
    "print('classification report for logistic regression \\n',clf_rpt_lr )"
   ]
  },
  {
   "cell_type": "code",
   "execution_count": 44,
   "id": "86de3d1e",
   "metadata": {},
   "outputs": [
    {
     "name": "stdout",
     "output_type": "stream",
     "text": [
      "classification report for SVC regression \n",
      "               precision    recall  f1-score   support\n",
      "\n",
      "           0       0.63      0.55      0.59      1283\n",
      "           1       0.64      0.72      0.68      1457\n",
      "\n",
      "    accuracy                           0.64      2740\n",
      "   macro avg       0.64      0.63      0.63      2740\n",
      "weighted avg       0.64      0.64      0.64      2740\n",
      "\n"
     ]
    }
   ],
   "source": [
    "from sklearn.svm import SVC\n",
    "clf_svc = SVC()\n",
    "clf_svc.fit(X_train, y_train)\n",
    "# Predicting with Support vector classifier\n",
    "y_pred_svc = clf_svc.predict(X_test)\n",
    "# score\n",
    "from sklearn.metrics import classification_report\n",
    "clf_rpt_svc = classification_report(y_test, y_pred_svc)\n",
    "print('classification report for SVC regression \\n',clf_rpt_svc)"
   ]
  },
  {
   "cell_type": "code",
   "execution_count": 45,
   "id": "87ca2f24",
   "metadata": {},
   "outputs": [
    {
     "name": "stdout",
     "output_type": "stream",
     "text": [
      "classification report for Random forest using smote \n",
      "               precision    recall  f1-score   support\n",
      "\n",
      "           0       0.66      0.65      0.66      1283\n",
      "           1       0.70      0.70      0.70      1457\n",
      "\n",
      "    accuracy                           0.68      2740\n",
      "   macro avg       0.68      0.68      0.68      2740\n",
      "weighted avg       0.68      0.68      0.68      2740\n",
      "\n"
     ]
    }
   ],
   "source": [
    "# Random Forest Classifier\n",
    "from sklearn.ensemble import RandomForestClassifier\n",
    "clf_rfc_smote = RandomForestClassifier()\n",
    "clf_rfc_smote.fit(X_train, y_train)\n",
    "# Predicting with Random Forest Regressor\n",
    "y_pred_rfg_smote = clf_rfc_smote.predict(X_test)\n",
    "from sklearn.metrics import classification_report\n",
    "clf_rpt_rf_smote = classification_report(y_test, y_pred_rfg_smote)\n",
    "print('classification report for Random forest using smote \\n',clf_rpt_rf_smote )"
   ]
  },
  {
   "cell_type": "code",
   "execution_count": 46,
   "id": "b2ddf559",
   "metadata": {},
   "outputs": [
    {
     "name": "stdout",
     "output_type": "stream",
     "text": [
      "classification report for decision tree \n",
      "               precision    recall  f1-score   support\n",
      "\n",
      "           0       0.59      0.60      0.59      1283\n",
      "           1       0.64      0.64      0.64      1457\n",
      "\n",
      "    accuracy                           0.62      2740\n",
      "   macro avg       0.62      0.62      0.62      2740\n",
      "weighted avg       0.62      0.62      0.62      2740\n",
      "\n"
     ]
    }
   ],
   "source": [
    "from sklearn.tree import DecisionTreeClassifier\n",
    "clf_dt = DecisionTreeClassifier()\n",
    "clf_dt.fit(X_train, y_train)\n",
    "# predicting with decision Tree\n",
    "y_pred_dt = clf_dt.predict(X_test)\n",
    "# Score\n",
    "from sklearn.metrics import classification_report\n",
    "clf_rpt_dt = classification_report(y_test, y_pred_dt)\n",
    "print('classification report for decision tree \\n', clf_rpt_dt)"
   ]
  },
  {
   "cell_type": "code",
   "execution_count": 47,
   "id": "ed7fcfc0",
   "metadata": {},
   "outputs": [
    {
     "name": "stdout",
     "output_type": "stream",
     "text": [
      "classification report for adaboost \n",
      "               precision    recall  f1-score   support\n",
      "\n",
      "           0       0.64      0.56      0.60      1283\n",
      "           1       0.65      0.72      0.69      1457\n",
      "\n",
      "    accuracy                           0.65      2740\n",
      "   macro avg       0.65      0.64      0.64      2740\n",
      "weighted avg       0.65      0.65      0.64      2740\n",
      "\n"
     ]
    }
   ],
   "source": [
    "from sklearn.ensemble import AdaBoostClassifier\n",
    "clf_adb = AdaBoostClassifier()\n",
    "clf_adb.fit(X_train, y_train)\n",
    "# predicting with adaboost classifier\n",
    "y_pred_adb = clf_adb.predict(X_test)\n",
    "# score\n",
    "from sklearn.metrics import classification_report\n",
    "clf_rpt_adb = classification_report\n",
    "clf_rpt_adb = classification_report(y_test, y_pred_adb)\n",
    "print('classification report for adaboost \\n', clf_rpt_adb)"
   ]
  },
  {
   "cell_type": "code",
   "execution_count": 48,
   "id": "f2a5ffe0",
   "metadata": {},
   "outputs": [
    {
     "name": "stdout",
     "output_type": "stream",
     "text": [
      "classification report for XGBoost \n",
      "               precision    recall  f1-score   support\n",
      "\n",
      "           0       0.88      0.87      0.87      1283\n",
      "           1       0.89      0.89      0.89      1457\n",
      "\n",
      "    accuracy                           0.88      2740\n",
      "   macro avg       0.88      0.88      0.88      2740\n",
      "weighted avg       0.88      0.88      0.88      2740\n",
      "\n"
     ]
    }
   ],
   "source": [
    "from xgboost import XGBClassifier\n",
    "clf_xgb = XGBClassifier()\n",
    "clf_xgb.fit(X_train, y_train)\n",
    "# Predicting with XGBoost\n",
    "y_pred_xgb = clf_xgb.predict(X_test)\n",
    "# score\n",
    "from sklearn.metrics import classification_report\n",
    "clf_rpt_xgb = classification_report(y_test, y_pred_xgb)\n",
    "print('classification report for XGBoost \\n',clf_rpt_xgb )"
   ]
  },
  {
   "cell_type": "code",
   "execution_count": 52,
   "id": "454ff3fe",
   "metadata": {},
   "outputs": [
    {
     "name": "stdout",
     "output_type": "stream",
     "text": [
      "classification report for XGBoost \n",
      "               precision    recall  f1-score   support\n",
      "\n",
      "           0       0.69      0.68      0.69      1283\n",
      "           1       0.72      0.74      0.73      1457\n",
      "\n",
      "    accuracy                           0.71      2740\n",
      "   macro avg       0.71      0.71      0.71      2740\n",
      "weighted avg       0.71      0.71      0.71      2740\n",
      "\n"
     ]
    }
   ],
   "source": [
    "from sklearn.ensemble import GradientBoostingClassifier\n",
    "gbr = GradientBoostingClassifier()\n",
    "gbr.fit(X_train, y_train)\n",
    "pred_y = gbr.predict(X_test)\n",
    "# score\n",
    "from sklearn.metrics import classification_report\n",
    "clf_rpt= classification_report(y_test, pred_y)\n",
    "print('classification report for XGBoost \\n',clf_rpt)"
   ]
  },
  {
   "cell_type": "code",
   "execution_count": 75,
   "id": "ffd7152b",
   "metadata": {},
   "outputs": [
    {
     "data": {
      "image/png": "[encoded data removed]",
      "text/plain": [
       "<Figure size 432x288 with 1 Axes>"
      ]
     },
     "metadata": {
      "needs_background": "light"
     },
     "output_type": "display_data"
    }
   ],
   "source": [
    "algorith=['KNeighborsClassifier','GaussianNB','LogisticRegression','SVC','RandomForestClassifier','DecisionTreeClassifier','AdaBoostClassifier','XGBClassifier','GradientBoostingClassifier']\n",
    "accuracy=[61,62,65,64,68,62,65,88,71]\n",
    "plt.plot(algorith,accuracy)\n",
    "plt.xticks(rotation=90)\n",
    "plt.show()"
   ]
  },
  {
   "cell_type": "code",
   "execution_count": null,
   "id": "856a149c",
   "metadata": {},
   "outputs": [],
   "source": []
  }
 ],
 "metadata": {
  "kernelspec": {
   "display_name": "Python 3 (ipykernel)",
   "language": "python",
   "name": "python3"
  },
  "language_info": {
   "codemirror_mode": {
    "name": "ipython",
    "version": 3
   },
   "file_extension": ".py",
   "mimetype": "text/x-python",
   "name": "python",
   "nbconvert_exporter": "python",
   "pygments_lexer": "ipython3",
   "version": "3.9.12"
  }
 },
 "nbformat": 4,
 "nbformat_minor": 5
}
